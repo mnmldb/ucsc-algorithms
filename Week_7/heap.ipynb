{
 "cells": [
  {
   "cell_type": "code",
   "execution_count": 1,
   "metadata": {},
   "outputs": [],
   "source": [
    "import heapq"
   ]
  },
  {
   "cell_type": "code",
   "execution_count": 2,
   "metadata": {},
   "outputs": [],
   "source": [
    "class Node:\n",
    "    def __init__(self, a:'int', b:'int'):\n",
    "        self._a = a\n",
    "        self._b = b\n",
    "    \n",
    "    ##Override __lt__ in Python 3, __cmp__ only in Python 2 \n",
    "    def __lt__(self, rhs:'int')->'bool':\n",
    "        if self._a < rhs._a: # Change to > for max heap\n",
    "            return True\n",
    "        return False"
   ]
  },
  {
   "cell_type": "code",
   "execution_count": 3,
   "metadata": {},
   "outputs": [],
   "source": [
    "class MinHeap:\n",
    "    def __init__(self):\n",
    "        self._q = []\n",
    "    def insert(self, a:'list'):\n",
    "        for e in a:\n",
    "            n = Node(e, -e)\n",
    "            heapq.heappush(self._q, n)\n",
    "    \n",
    "    def add(self, n:'Node'):\n",
    "        heapq.heappush(self._q, n)\n",
    "    \n",
    "    def get_top(self)->'Node':\n",
    "        return self._q[0]\n",
    "    \n",
    "    def get_top_and_remove(self)->'Node':\n",
    "        n = heapq.heappop(self._q)\n",
    "        return n\n",
    "    \n",
    "    def deleteAll(self):\n",
    "        while len(self._q):\n",
    "            n = heapq.heappop(self._q)\n",
    "            print(n._a, n._b)"
   ]
  },
  {
   "cell_type": "code",
   "execution_count": 4,
   "metadata": {},
   "outputs": [],
   "source": [
    "def test_Heap():\n",
    "    a = [5, 8, 2, 8]\n",
    "    h = MinHeap()\n",
    "    h.insert(a)\n",
    "    print('After inserting an array', a)\n",
    "    n = h.get_top()\n",
    "    print('HeapTop has', n._a, n._b)\n",
    "    n = h.get_top_and_remove()\n",
    "    print('Removed element is', n._a, n._b)\n",
    "    n = h.get_top()\n",
    "    print('Now HeapTop has', n._a, n._b)\n",
    "    x = 3\n",
    "    n = Node(3, 100)\n",
    "    h.add(n)\n",
    "    n1 = h.get_top()\n",
    "    print('HeapTop has after adding 3, 100 is', n1._a, n1._b)\n",
    "    n = Node(23, 10)\n",
    "    h.add(n)\n",
    "    n1 = h.get_top()\n",
    "    print('HeapTop has after adding 23, 10 is', n1._a, n1._b)\n",
    "    h.deleteAll()"
   ]
  },
  {
   "cell_type": "code",
   "execution_count": 5,
   "metadata": {},
   "outputs": [
    {
     "name": "stdout",
     "output_type": "stream",
     "text": [
      "After inserting an array [5, 8, 2, 8]\n",
      "HeapTop has 2 -2\n",
      "Removed element is 2 -2\n",
      "Now HeapTop has 5 -5\n",
      "HeapTop has after adding 3, 100 is 3 100\n",
      "HeapTop has after adding 23, 10 is 3 100\n",
      "3 100\n",
      "5 -5\n",
      "8 -8\n",
      "8 -8\n",
      "23 10\n"
     ]
    }
   ],
   "source": [
    "test_Heap()"
   ]
  },
  {
   "cell_type": "code",
   "execution_count": null,
   "metadata": {},
   "outputs": [],
   "source": []
  }
 ],
 "metadata": {
  "kernelspec": {
   "display_name": "Python 3",
   "language": "python",
   "name": "python3"
  },
  "language_info": {
   "codemirror_mode": {
    "name": "ipython",
    "version": 3
   },
   "file_extension": ".py",
   "mimetype": "text/x-python",
   "name": "python",
   "nbconvert_exporter": "python",
   "pygments_lexer": "ipython3",
   "version": "3.8.3"
  }
 },
 "nbformat": 4,
 "nbformat_minor": 4
}
