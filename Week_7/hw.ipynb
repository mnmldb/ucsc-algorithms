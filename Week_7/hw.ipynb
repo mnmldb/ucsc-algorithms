{
 "cells": [
  {
   "cell_type": "code",
   "execution_count": 1,
   "metadata": {},
   "outputs": [],
   "source": [
    "def shortestReach(n, edges, s):\n",
    "    pass"
   ]
  },
  {
   "cell_type": "code",
   "execution_count": 74,
   "metadata": {},
   "outputs": [],
   "source": [
    "n = 4\n",
    "edges = [[1, 2, 24], [1, 4, 20], [3, 1, 3], [4, 3, 12]]\n",
    "s = 1"
   ]
  },
  {
   "cell_type": "code",
   "execution_count": 63,
   "metadata": {},
   "outputs": [],
   "source": [
    "class Node:\n",
    "    # default values\n",
    "    visited = False # not visited\n",
    "    value = 'L' # infinity\n",
    "    fanout = []\n",
    "    def __init__(self, name):\n",
    "        self.name = name\n",
    "    def setFanOut(self, out, cost):\n",
    "        self.fanout.append([out, cost])\n",
    "    def setValue(self, value):\n",
    "        self.value = value\n",
    "    def setVisited(self):\n",
    "        self.visited = True"
   ]
  },
  {
   "cell_type": "code",
   "execution_count": 66,
   "metadata": {},
   "outputs": [],
   "source": [
    "class Node:\n",
    "    def __init__(self, name):\n",
    "        self.name = name\n",
    "        self.visited = False\n",
    "        self.value = 'L'\n",
    "        self.fanout = []\n",
    "    def setFanOut(self, out, cost):\n",
    "        self.fanout.append([out, cost])\n",
    "    def setValue(self, value):\n",
    "        self.value = value\n",
    "    def setVisited(self):\n",
    "        self.visited = True"
   ]
  },
  {
   "cell_type": "code",
   "execution_count": 20,
   "metadata": {},
   "outputs": [],
   "source": [
    "s = Node(1)"
   ]
  },
  {
   "cell_type": "code",
   "execution_count": 21,
   "metadata": {},
   "outputs": [
    {
     "name": "stdout",
     "output_type": "stream",
     "text": [
      "False\n",
      "[]\n",
      "1\n",
      "L\n"
     ]
    }
   ],
   "source": [
    "print(s.visited)\n",
    "print(s.fanout)\n",
    "print(s.name)\n",
    "print(s.value)"
   ]
  },
  {
   "cell_type": "code",
   "execution_count": 22,
   "metadata": {},
   "outputs": [
    {
     "name": "stdout",
     "output_type": "stream",
     "text": [
      "[[2, 24]]\n"
     ]
    }
   ],
   "source": [
    "s.setFanOut(2, 24)\n",
    "print(s.fanout)"
   ]
  },
  {
   "cell_type": "code",
   "execution_count": 23,
   "metadata": {},
   "outputs": [
    {
     "name": "stdout",
     "output_type": "stream",
     "text": [
      "[[2, 24], [4, 30]]\n"
     ]
    }
   ],
   "source": [
    "s.setFanOut(4, 30)\n",
    "print(s.fanout)"
   ]
  },
  {
   "cell_type": "code",
   "execution_count": 24,
   "metadata": {},
   "outputs": [
    {
     "name": "stdout",
     "output_type": "stream",
     "text": [
      "5\n"
     ]
    }
   ],
   "source": [
    "s.setValue(5)\n",
    "print(s.value)"
   ]
  },
  {
   "cell_type": "code",
   "execution_count": 25,
   "metadata": {},
   "outputs": [
    {
     "name": "stdout",
     "output_type": "stream",
     "text": [
      "True\n"
     ]
    }
   ],
   "source": [
    "s.setVisited()\n",
    "print(s.visited)"
   ]
  },
  {
   "cell_type": "code",
   "execution_count": 76,
   "metadata": {},
   "outputs": [],
   "source": [
    "listOfNodes = [None] * n"
   ]
  },
  {
   "cell_type": "code",
   "execution_count": 67,
   "metadata": {},
   "outputs": [
    {
     "data": {
      "text/plain": [
       "[None,\n",
       " <__main__.Node at 0x7f2a20425340>,\n",
       " <__main__.Node at 0x7f2a20425520>,\n",
       " <__main__.Node at 0x7f2a20425430>,\n",
       " <__main__.Node at 0x7f2a20425490>]"
      ]
     },
     "execution_count": 67,
     "metadata": {},
     "output_type": "execute_result"
    }
   ],
   "source": [
    "listOfNodes"
   ]
  },
  {
   "cell_type": "code",
   "execution_count": 47,
   "metadata": {},
   "outputs": [
    {
     "data": {
      "text/plain": [
       "True"
      ]
     },
     "execution_count": 47,
     "metadata": {},
     "output_type": "execute_result"
    }
   ],
   "source": [
    "listOfNodes[0] is None"
   ]
  },
  {
   "cell_type": "code",
   "execution_count": 77,
   "metadata": {},
   "outputs": [],
   "source": [
    "listOfNodes = [None] * (n + 1)\n",
    "\n",
    "# forward\n",
    "for e in edges: # [1, 2, 24]\n",
    "    if listOfNodes[e[0]] is None:\n",
    "        node = Node(e[0])\n",
    "        node.setFanOut(e[1], e[2])\n",
    "        listOfNodes[e[0]] = node\n",
    "    else:\n",
    "        listOfNodes[e[0]].setFanOut(e[1], e[2])\n",
    "\n",
    "# reverse\n",
    "for e in edges: # [1, 2, 24]\n",
    "    if listOfNodes[e[1]] is None:\n",
    "        node = Node(e[1])\n",
    "        node.setFanOut(e[0], e[2])\n",
    "        listOfNodes[e[1]] = node\n",
    "    else:\n",
    "        listOfNodes[e[1]].setFanOut(e[0], e[2])"
   ]
  },
  {
   "cell_type": "code",
   "execution_count": 78,
   "metadata": {},
   "outputs": [
    {
     "data": {
      "text/plain": [
       "[None,\n",
       " <__main__.Node at 0x7f2a2041a250>,\n",
       " <__main__.Node at 0x7f2a2041a3a0>,\n",
       " <__main__.Node at 0x7f2a2053ae50>,\n",
       " <__main__.Node at 0x7f2a20425d00>]"
      ]
     },
     "execution_count": 78,
     "metadata": {},
     "output_type": "execute_result"
    }
   ],
   "source": [
    "listOfNodes"
   ]
  },
  {
   "cell_type": "code",
   "execution_count": 79,
   "metadata": {},
   "outputs": [
    {
     "name": "stdout",
     "output_type": "stream",
     "text": [
      "1\n",
      "[[2, 24], [4, 20], [3, 3]]\n"
     ]
    }
   ],
   "source": [
    "print(listOfNodes[1].name)\n",
    "print(listOfNodes[1].fanout)"
   ]
  },
  {
   "cell_type": "code",
   "execution_count": 81,
   "metadata": {},
   "outputs": [
    {
     "name": "stdout",
     "output_type": "stream",
     "text": [
      "2\n",
      "[[1, 24]]\n"
     ]
    }
   ],
   "source": [
    "print(listOfNodes[2].name)\n",
    "print(listOfNodes[2].fanout)"
   ]
  },
  {
   "cell_type": "code",
   "execution_count": 82,
   "metadata": {},
   "outputs": [
    {
     "name": "stdout",
     "output_type": "stream",
     "text": [
      "3\n",
      "[[1, 3], [4, 12]]\n"
     ]
    }
   ],
   "source": [
    "print(listOfNodes[3].name)\n",
    "print(listOfNodes[3].fanout)"
   ]
  },
  {
   "cell_type": "code",
   "execution_count": 83,
   "metadata": {},
   "outputs": [
    {
     "name": "stdout",
     "output_type": "stream",
     "text": [
      "4\n",
      "[[3, 12], [1, 20]]\n"
     ]
    }
   ],
   "source": [
    "print(listOfNodes[4].name)\n",
    "print(listOfNodes[4].fanout)"
   ]
  },
  {
   "cell_type": "code",
   "execution_count": null,
   "metadata": {},
   "outputs": [],
   "source": []
  },
  {
   "cell_type": "code",
   "execution_count": null,
   "metadata": {},
   "outputs": [],
   "source": []
  },
  {
   "cell_type": "code",
   "execution_count": 29,
   "metadata": {},
   "outputs": [],
   "source": [
    "s = set([1,2,3,3,2])"
   ]
  },
  {
   "cell_type": "code",
   "execution_count": 30,
   "metadata": {},
   "outputs": [
    {
     "data": {
      "text/plain": [
       "{1, 2, 3}"
      ]
     },
     "execution_count": 30,
     "metadata": {},
     "output_type": "execute_result"
    }
   ],
   "source": [
    "s"
   ]
  },
  {
   "cell_type": "code",
   "execution_count": 31,
   "metadata": {},
   "outputs": [],
   "source": [
    "s.add(4)"
   ]
  },
  {
   "cell_type": "code",
   "execution_count": 33,
   "metadata": {},
   "outputs": [
    {
     "data": {
      "text/plain": [
       "set"
      ]
     },
     "execution_count": 33,
     "metadata": {},
     "output_type": "execute_result"
    }
   ],
   "source": [
    "type(s)"
   ]
  },
  {
   "cell_type": "code",
   "execution_count": 36,
   "metadata": {},
   "outputs": [],
   "source": [
    "s = set([])"
   ]
  },
  {
   "cell_type": "code",
   "execution_count": 37,
   "metadata": {},
   "outputs": [
    {
     "data": {
      "text/plain": [
       "set"
      ]
     },
     "execution_count": 37,
     "metadata": {},
     "output_type": "execute_result"
    }
   ],
   "source": [
    "type(s)"
   ]
  },
  {
   "cell_type": "code",
   "execution_count": 69,
   "metadata": {},
   "outputs": [
    {
     "ename": "TypeError",
     "evalue": "can't multiply sequence by non-int of type 'Node'",
     "output_type": "error",
     "traceback": [
      "\u001b[0;31m\u001b[0m",
      "\u001b[0;31mTypeError\u001b[0mTraceback (most recent call last)",
      "\u001b[0;32m<ipython-input-69-5b5e822e2d5d>\u001b[0m in \u001b[0;36m<module>\u001b[0;34m\u001b[0m\n\u001b[0;32m----> 1\u001b[0;31m \u001b[0mlistOfNodes\u001b[0m \u001b[0;34m=\u001b[0m \u001b[0;34m[\u001b[0m\u001b[0;36m0\u001b[0m\u001b[0;34m]\u001b[0m \u001b[0;34m*\u001b[0m \u001b[0mn\u001b[0m\u001b[0;34m\u001b[0m\u001b[0;34m\u001b[0m\u001b[0m\n\u001b[0m",
      "\u001b[0;31mTypeError\u001b[0m: can't multiply sequence by non-int of type 'Node'"
     ]
    }
   ],
   "source": [
    "listOfNodes = [0] * n"
   ]
  },
  {
   "cell_type": "code",
   "execution_count": 40,
   "metadata": {},
   "outputs": [
    {
     "data": {
      "text/plain": [
       "[0, 0, 0, 0]"
      ]
     },
     "execution_count": 40,
     "metadata": {},
     "output_type": "execute_result"
    }
   ],
   "source": [
    "listOfNodes"
   ]
  },
  {
   "cell_type": "code",
   "execution_count": 41,
   "metadata": {},
   "outputs": [],
   "source": [
    "listOfNodes[1] = 'Test'"
   ]
  },
  {
   "cell_type": "code",
   "execution_count": 70,
   "metadata": {},
   "outputs": [
    {
     "data": {
      "text/plain": [
       "[None,\n",
       " <__main__.Node at 0x7f2a20425340>,\n",
       " <__main__.Node at 0x7f2a20425520>,\n",
       " <__main__.Node at 0x7f2a20425430>,\n",
       " <__main__.Node at 0x7f2a20425490>]"
      ]
     },
     "execution_count": 70,
     "metadata": {},
     "output_type": "execute_result"
    }
   ],
   "source": [
    "listOfNodes"
   ]
  },
  {
   "cell_type": "code",
   "execution_count": 85,
   "metadata": {},
   "outputs": [],
   "source": [
    "# input\n",
    "def shortestReach(n, edges, s):\n",
    "    pass\n",
    "\n",
    "n = 4\n",
    "edges = [[1, 2, 24], [1, 4, 20], [3, 1, 3], [4, 3, 12]]\n",
    "s = 1\n",
    "\n",
    "# data structures\n",
    "class Node:\n",
    "    def __init__(self, name):\n",
    "        self.name = name # name of the node (1, 2, 3, ...)\n",
    "        self.visited = False # default status is unvisited\n",
    "        self.value = 'L' # default value is infinity\n",
    "        self.fanout = [] # create an empty list for fanout\n",
    "    def setFanOut(self, out, cost):\n",
    "        self.fanout.append([out, cost]) # [[2, 24], [4, 20], [3, 3]]\n",
    "    def setValue(self, value):\n",
    "        self.value = value # total cost from the starting point\n",
    "    def setVisited(self):\n",
    "        self.visited = True\n",
    "\n",
    "\n",
    "# create list of node for BFS\n",
    "listOfNodes = [None] * (n + 1) # n + 1 as 0 is not used for nodes\n",
    "\n",
    "for e in edges: # [1, 2, 24]\n",
    "    # forward\n",
    "    if listOfNodes[e[0]] is None:\n",
    "        node = Node(e[0])\n",
    "        node.setFanOut(e[1], e[2])\n",
    "        listOfNodes[e[0]] = node\n",
    "    else:\n",
    "        listOfNodes[e[0]].setFanOut(e[1], e[2])\n",
    "    \n",
    "    # backward\n",
    "    if listOfNodes[e[1]] is None:\n",
    "        node = Node(e[1])\n",
    "        node.setFanOut(e[0], e[2])\n",
    "        listOfNodes[e[1]] = node\n",
    "    else:\n",
    "        listOfNodes[e[1]].setFanOut(e[0], e[2])"
   ]
  },
  {
   "cell_type": "code",
   "execution_count": 86,
   "metadata": {},
   "outputs": [
    {
     "name": "stdout",
     "output_type": "stream",
     "text": [
      "4\n",
      "[[1, 20], [3, 12]]\n"
     ]
    }
   ],
   "source": [
    "print(listOfNodes[4].name)\n",
    "print(listOfNodes[4].fanout)"
   ]
  },
  {
   "cell_type": "code",
   "execution_count": 87,
   "metadata": {},
   "outputs": [
    {
     "name": "stdout",
     "output_type": "stream",
     "text": [
      "1\n",
      "[[2, 24], [4, 20], [3, 3]]\n"
     ]
    }
   ],
   "source": [
    "print(listOfNodes[1].name)\n",
    "print(listOfNodes[1].fanout)"
   ]
  },
  {
   "cell_type": "code",
   "execution_count": 92,
   "metadata": {},
   "outputs": [],
   "source": [
    "w = ['L'] * (n + 1) # weight array\n",
    "v = [False] * (n + 1) # finished array\n",
    "p = [0] * (n + 1) # fanin array"
   ]
  },
  {
   "cell_type": "code",
   "execution_count": 95,
   "metadata": {},
   "outputs": [],
   "source": [
    "# starting point\n",
    "w[s] = 0\n",
    "v[s] = True "
   ]
  },
  {
   "cell_type": "code",
   "execution_count": 96,
   "metadata": {},
   "outputs": [
    {
     "name": "stdout",
     "output_type": "stream",
     "text": [
      "['L', 0, 'L', 'L', 'L']\n",
      "[False, True, False, False, False]\n",
      "[0, 0, 0, 0, 0]\n"
     ]
    }
   ],
   "source": [
    "print(w)\n",
    "print(v)\n",
    "print(p)"
   ]
  },
  {
   "cell_type": "code",
   "execution_count": 98,
   "metadata": {},
   "outputs": [
    {
     "data": {
      "text/plain": [
       "[[2, 24], [4, 20], [3, 3]]"
      ]
     },
     "execution_count": 98,
     "metadata": {},
     "output_type": "execute_result"
    }
   ],
   "source": [
    "listOfNodes[s].fanout"
   ]
  },
  {
   "cell_type": "code",
   "execution_count": 99,
   "metadata": {},
   "outputs": [],
   "source": [
    "for i in listOfNodes[s].fanout: # [[2, 24], [4, 20], [3, 3]]\n",
    "    w[i[0]] = i[1] # update cost\n",
    "    p[i[0]] = s"
   ]
  },
  {
   "cell_type": "code",
   "execution_count": 100,
   "metadata": {},
   "outputs": [
    {
     "name": "stdout",
     "output_type": "stream",
     "text": [
      "['L', 0, 24, 3, 20]\n",
      "[False, True, False, False, False]\n",
      "[0, 0, 1, 1, 1]\n"
     ]
    }
   ],
   "source": [
    "print(w)\n",
    "print(v)\n",
    "print(p)"
   ]
  },
  {
   "cell_type": "code",
   "execution_count": null,
   "metadata": {},
   "outputs": [],
   "source": []
  }
 ],
 "metadata": {
  "kernelspec": {
   "display_name": "Python 3",
   "language": "python",
   "name": "python3"
  },
  "language_info": {
   "codemirror_mode": {
    "name": "ipython",
    "version": 3
   },
   "file_extension": ".py",
   "mimetype": "text/x-python",
   "name": "python",
   "nbconvert_exporter": "python",
   "pygments_lexer": "ipython3",
   "version": "3.8.3"
  }
 },
 "nbformat": 4,
 "nbformat_minor": 4
}
