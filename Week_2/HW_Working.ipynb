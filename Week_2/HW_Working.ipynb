{
 "cells": [
  {
   "cell_type": "code",
   "execution_count": 1,
   "metadata": {},
   "outputs": [],
   "source": [
    "l6 = [2,2,2,1,2,2]\n",
    "l7 = [2,2,2,2,2,1,2]\n",
    "l8 = [2,1,2,2,2,2,2,2]"
   ]
  },
  {
   "cell_type": "code",
   "execution_count": 28,
   "metadata": {},
   "outputs": [],
   "source": [
    "w = len(l8) // 3\n",
    "s1 = l8[:w]\n",
    "s2 = l8[w:2 * w]\n",
    "s3 = l8[2 * w: 3 * w]\n",
    "s4 = l8[3 * w:]"
   ]
  },
  {
   "cell_type": "code",
   "execution_count": 29,
   "metadata": {},
   "outputs": [
    {
     "name": "stdout",
     "output_type": "stream",
     "text": [
      "[2, 1]\n",
      "[2, 2]\n",
      "[2, 2]\n",
      "[2, 2]\n"
     ]
    }
   ],
   "source": [
    "print(s1)\n",
    "print(s2)\n",
    "print(s3)\n",
    "print(s4)"
   ]
  },
  {
   "cell_type": "code",
   "execution_count": 33,
   "metadata": {},
   "outputs": [],
   "source": [
    "w = len(l7) // 3\n",
    "s1 = l7[:w]\n",
    "s2 = l7[w:2 * w]\n",
    "s3 = l7[2 * w: 3 * w]\n",
    "s4 = l7[3 * w:]"
   ]
  },
  {
   "cell_type": "code",
   "execution_count": 32,
   "metadata": {},
   "outputs": [
    {
     "name": "stdout",
     "output_type": "stream",
     "text": [
      "[2, 2]\n",
      "[2, 2]\n",
      "[2, 1]\n",
      "[2]\n"
     ]
    }
   ],
   "source": [
    "print(s1)\n",
    "print(s2)\n",
    "print(s3)\n",
    "print(s4)"
   ]
  },
  {
   "cell_type": "code",
   "execution_count": 34,
   "metadata": {},
   "outputs": [],
   "source": [
    "w = len(l6) // 3\n",
    "s1 = l6[:w]\n",
    "s2 = l6[w:2 * w]\n",
    "s3 = l6[2 * w: 3 * w]"
   ]
  },
  {
   "cell_type": "code",
   "execution_count": 38,
   "metadata": {},
   "outputs": [
    {
     "name": "stdout",
     "output_type": "stream",
     "text": [
      "[2, 2]\n",
      "[2, 1]\n",
      "[2, 2]\n",
      "4\n"
     ]
    }
   ],
   "source": [
    "print(s1)\n",
    "print(s2)\n",
    "print(s3)\n",
    "print(2*w)"
   ]
  },
  {
   "cell_type": "code",
   "execution_count": 40,
   "metadata": {},
   "outputs": [
    {
     "data": {
      "text/plain": [
       "[2, 2]"
      ]
     },
     "execution_count": 40,
     "metadata": {},
     "output_type": "execute_result"
    }
   ],
   "source": [
    "l6[4:]"
   ]
  },
  {
   "cell_type": "code",
   "execution_count": 41,
   "metadata": {},
   "outputs": [],
   "source": [
    "def func(l):\n",
    "    n = len(l)\n",
    "    if n % 3 == 0:\n",
    "        w = len(l) // 3\n",
    "        s1 = l[:w]\n",
    "        s2 = l[w:2 * w]\n",
    "        s3 = l[2 * w: 3 * w]\n",
    "        \n",
    "        if sum(s1) < sum(s2):\n",
    "            return s1\n",
    "        elif sum(s1) > sum(s2):\n",
    "            return s2\n",
    "        else: # sum(s1) == sum(s2)\n",
    "            return s3\n",
    "        \n",
    "    else:\n",
    "        w = len(l) // 3\n",
    "        s1 = l[:w]\n",
    "        s2 = l[w:2 * w]\n",
    "        s3 = l[2 * w: 3 * w]\n",
    "        s4 = l[3 * w:]\n",
    "        \n",
    "        if sum(s1) < sum(s2):\n",
    "            return s1\n",
    "        elif sum(s1) > sum(s2):\n",
    "            return s2\n",
    "        else: # sum(s1) == sum(s2)\n",
    "            if sum(s1) > sum(s3):\n",
    "                return s3\n",
    "            elif sum(s1) == sum(s3):\n",
    "                return s4"
   ]
  },
  {
   "cell_type": "code",
   "execution_count": 53,
   "metadata": {},
   "outputs": [],
   "source": [
    "def func(l):\n",
    "    n = len(l)\n",
    "    pos = 0\n",
    "    \n",
    "    if n % 3 == 0: # n == 3k\n",
    "        w = len(l) // 3\n",
    "        s1 = l[:w]\n",
    "        s2 = l[w:2 * w]\n",
    "        s3 = l[2 * w: 3 * w]\n",
    "        \n",
    "        if sum(s1) < sum(s2):\n",
    "            l_new = s1\n",
    "        elif sum(s1) > sum(s2):\n",
    "            l_new = s2\n",
    "            pos += w\n",
    "        else: # sum(s1) == sum(s2)\n",
    "            l_new = s3\n",
    "            pos += 2 * w\n",
    "        \n",
    "    else: # n == 3k + 1 or 3k + 2\n",
    "        w = len(l) // 3\n",
    "        s1 = l[:w]\n",
    "        s2 = l[w:2 * w]\n",
    "        s3 = l[2 * w: 3 * w]\n",
    "        s4 = l[3 * w:]\n",
    "        \n",
    "        if sum(s1) < sum(s2):\n",
    "            l_new = s1\n",
    "        elif sum(s1) > sum(s2):\n",
    "            l_new = s2\n",
    "            pos += w\n",
    "        else: # sum(s1) == sum(s2)\n",
    "            if sum(s1) > sum(s3):\n",
    "                l_new = s3\n",
    "                pos += 2 * w\n",
    "            elif sum(s1) == sum(s3):\n",
    "                l_new = s4\n",
    "                pos += 3 * w\n",
    "                \n",
    "    return l_new, pos"
   ]
  },
  {
   "cell_type": "code",
   "execution_count": 54,
   "metadata": {},
   "outputs": [
    {
     "data": {
      "text/plain": [
       "([2, 1], 0)"
      ]
     },
     "execution_count": 54,
     "metadata": {},
     "output_type": "execute_result"
    }
   ],
   "source": [
    "func(l8)"
   ]
  },
  {
   "cell_type": "code",
   "execution_count": 55,
   "metadata": {},
   "outputs": [
    {
     "data": {
      "text/plain": [
       "([2, 1], 0)"
      ]
     },
     "execution_count": 55,
     "metadata": {},
     "output_type": "execute_result"
    }
   ],
   "source": [
    "func([2,1])"
   ]
  },
  {
   "cell_type": "code",
   "execution_count": 72,
   "metadata": {},
   "outputs": [],
   "source": [
    "def func(l):\n",
    "    n = len(l)\n",
    "    pos = 0\n",
    "    num_steps = 0 \n",
    "    a = [0, 0] # output\n",
    "    \n",
    "    while n > 3:\n",
    "        num_steps += 1\n",
    "        \n",
    "        if n % 3 == 0: # n == 3k\n",
    "            w = len(l) // 3\n",
    "            s1 = l[:w]\n",
    "            s2 = l[w:2 * w]\n",
    "            s3 = l[2 * w: 3 * w]\n",
    "\n",
    "            if sum(s1) < sum(s2):\n",
    "                l = s1\n",
    "                n = len(l)\n",
    "            elif sum(s1) > sum(s2):\n",
    "                l = s2\n",
    "                n = len(l)\n",
    "                pos += w\n",
    "            else: # sum(s1) == sum(s2)\n",
    "                l = s3\n",
    "                n = len(l)\n",
    "                pos += 2 * w\n",
    "\n",
    "        else: # n == 3k + 1 or 3k + 2\n",
    "            w = len(l) // 3\n",
    "            s1 = l[:w]\n",
    "            s2 = l[w:2 * w]\n",
    "            s3 = l[2 * w: 3 * w]\n",
    "            s4 = l[3 * w:]\n",
    "\n",
    "            if sum(s1) < sum(s2):\n",
    "                l = s1\n",
    "                n = len(l)\n",
    "            elif sum(s1) > sum(s2):\n",
    "                l = s2\n",
    "                n = len(l)\n",
    "                pos += w\n",
    "            else: # sum(s1) == sum(s2)\n",
    "                num_steps += 1\n",
    "                if sum(s1) > sum(s3):\n",
    "                    l = s3\n",
    "                    n = len(l)\n",
    "                    pos += 2 * w\n",
    "                elif sum(s1) == sum(s3):\n",
    "                    l = s4\n",
    "                    n = len(l)\n",
    "                    pos += 3 * w\n",
    "                \n",
    "    num_steps += 1\n",
    "    a[1] = num_steps\n",
    "    if n == 1:\n",
    "        a[0] = pos\n",
    "    elif n == 2:\n",
    "        num_steps += 1\n",
    "        if l[0] < l[1]:\n",
    "            a[0] = pos\n",
    "        else:\n",
    "            a[0] = pos + 1\n",
    "    else: # n == 3\n",
    "        num_steps += 1\n",
    "        if l[0] < l[1]:\n",
    "            a[0] = pos\n",
    "        elif l[0] > l[1]:\n",
    "            a[0] = pos + 1\n",
    "        else:\n",
    "            a[0] = pos + 2\n",
    "    \n",
    "    return a"
   ]
  },
  {
   "cell_type": "code",
   "execution_count": 73,
   "metadata": {},
   "outputs": [
    {
     "data": {
      "text/plain": [
       "[3, 2]"
      ]
     },
     "execution_count": 73,
     "metadata": {},
     "output_type": "execute_result"
    }
   ],
   "source": [
    "func(l6)"
   ]
  },
  {
   "cell_type": "code",
   "execution_count": 74,
   "metadata": {},
   "outputs": [
    {
     "data": {
      "text/plain": [
       "[5, 3]"
      ]
     },
     "execution_count": 74,
     "metadata": {},
     "output_type": "execute_result"
    }
   ],
   "source": [
    "func(l7)"
   ]
  },
  {
   "cell_type": "code",
   "execution_count": 75,
   "metadata": {},
   "outputs": [
    {
     "data": {
      "text/plain": [
       "[1, 2]"
      ]
     },
     "execution_count": 75,
     "metadata": {},
     "output_type": "execute_result"
    }
   ],
   "source": [
    "func(l8)"
   ]
  },
  {
   "cell_type": "code",
   "execution_count": null,
   "metadata": {},
   "outputs": [],
   "source": []
  }
 ],
 "metadata": {
  "kernelspec": {
   "display_name": "Python 3",
   "language": "python",
   "name": "python3"
  },
  "language_info": {
   "codemirror_mode": {
    "name": "ipython",
    "version": 3
   },
   "file_extension": ".py",
   "mimetype": "text/x-python",
   "name": "python",
   "nbconvert_exporter": "python",
   "pygments_lexer": "ipython3",
   "version": "3.6.10"
  }
 },
 "nbformat": 4,
 "nbformat_minor": 4
}
