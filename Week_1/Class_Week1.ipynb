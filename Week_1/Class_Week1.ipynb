{
 "cells": [
  {
   "cell_type": "code",
   "execution_count": 2,
   "metadata": {},
   "outputs": [
    {
     "name": "stdout",
     "output_type": "stream",
     "text": [
      "3.6.10 |Anaconda, Inc.| (default, Mar 25 2020, 18:53:43) \n",
      "[GCC 4.2.1 Compatible Clang 4.0.1 (tags/RELEASE_401/final)]\n"
     ]
    }
   ],
   "source": [
    "import sys\n",
    "import os\n",
    "print(sys.version)"
   ]
  },
  {
   "cell_type": "code",
   "execution_count": 4,
   "metadata": {},
   "outputs": [
    {
     "name": "stdout",
     "output_type": "stream",
     "text": [
      "type of k <class 'float'> Value of k = 78.9 ID 140243972889960\n",
      "type of k <class 'int'> Value of k = 2 ID 4460713632\n"
     ]
    }
   ],
   "source": [
    "k = 78.90\n",
    "print('type of k', type(k), 'Value of k =', k, 'ID', id(k))\n",
    "k = 2 \n",
    "print('type of k', type(k), 'Value of k =', k, 'ID', id(k))"
   ]
  },
  {
   "cell_type": "code",
   "execution_count": 6,
   "metadata": {},
   "outputs": [
    {
     "name": "stdout",
     "output_type": "stream",
     "text": [
      "TO show how to build XOR\n",
      "type of k <class 'bool'> Value of k = True ID 4460333184\n",
      "type of j <class 'bool'> Value of j = False ID 4460334128\n",
      "type of m <class 'bool'> Value of m = True ID 4460333184\n"
     ]
    }
   ],
   "source": [
    "print('TO show how to build XOR')\n",
    "k = True\n",
    "print('type of k', type(k), 'Value of k =', k, 'ID', id(k))\n",
    "j = False\n",
    "print('type of j', type(j), 'Value of j =', j, 'ID', id(j))\n",
    "m = (k and (not j)) or ((not k) and j)\n",
    "print('type of m', type(m), 'Value of m =', m, 'ID', id(m))"
   ]
  },
  {
   "cell_type": "code",
   "execution_count": 9,
   "metadata": {},
   "outputs": [
    {
     "name": "stdout",
     "output_type": "stream",
     "text": [
      "XOR truth table\n",
      "False False False 4460334128\n",
      "False True True 4460333184\n",
      "True False True 4460333184\n",
      "True True False 4460334128\n"
     ]
    }
   ],
   "source": [
    "print('XOR truth table')\n",
    "for k in [False, True]:\n",
    "    for j in [False, True]:\n",
    "        m = (k and (not j)) or ((not k) and j)\n",
    "        print(k, j, m, id(m))"
   ]
  },
  {
   "cell_type": "code",
   "execution_count": 10,
   "metadata": {},
   "outputs": [
    {
     "name": "stdout",
     "output_type": "stream",
     "text": [
      "XOR truth table\n",
      "False 4460334128 False 4460334128 False 4460334128\n",
      "False 4460334128 True 4460333184 True 4460333184\n",
      "True 4460333184 False 4460334128 True 4460333184\n",
      "True 4460333184 True 4460333184 False 4460334128\n"
     ]
    }
   ],
   "source": [
    "print('XOR truth table')\n",
    "for k in [False, True]:\n",
    "    for j in [False, True]:\n",
    "        m = (k and (not j)) or ((not k) and j)\n",
    "        print(k, id(k), j, id(j), m, id(m))"
   ]
  },
  {
   "cell_type": "code",
   "execution_count": 11,
   "metadata": {},
   "outputs": [
    {
     "name": "stdout",
     "output_type": "stream",
     "text": [
      "4460715968 4460715968\n"
     ]
    }
   ],
   "source": [
    "a = 75\n",
    "b = a\n",
    "print(id(a), id(b))"
   ]
  },
  {
   "cell_type": "code",
   "execution_count": 12,
   "metadata": {},
   "outputs": [
    {
     "name": "stdout",
     "output_type": "stream",
     "text": [
      "4460715168 4460715168\n"
     ]
    }
   ],
   "source": [
    "c = 50\n",
    "d = 50\n",
    "print(id(c), id(d))"
   ]
  },
  {
   "cell_type": "code",
   "execution_count": 13,
   "metadata": {},
   "outputs": [
    {
     "name": "stdout",
     "output_type": "stream",
     "text": [
      "4460713888 4460713888\n",
      "4460713728 4460713888\n"
     ]
    }
   ],
   "source": [
    "x = 10\n",
    "y = x\n",
    "print(id(x), id(y))\n",
    "x = 5\n",
    "print(id(x), id(y))"
   ]
  },
  {
   "cell_type": "code",
   "execution_count": 14,
   "metadata": {},
   "outputs": [
    {
     "name": "stdout",
     "output_type": "stream",
     "text": [
      "3.5 3\n"
     ]
    }
   ],
   "source": [
    "print(7 / 2, 7 // 2)"
   ]
  },
  {
   "cell_type": "code",
   "execution_count": 15,
   "metadata": {},
   "outputs": [],
   "source": [
    "def findmax(x:'int', y:'int', z:'int')->'int':\n",
    "    max = 0\n",
    "    print('x=',x,'y=',y,'z=',z)\n",
    "    if x > y:\n",
    "        if x > z:\n",
    "            max = x\n",
    "        else:\n",
    "            max = z\n",
    "    else:\n",
    "        if y > z:\n",
    "            max = y\n",
    "        else:\n",
    "            max = z\n",
    "    return max"
   ]
  },
  {
   "cell_type": "code",
   "execution_count": 17,
   "metadata": {},
   "outputs": [
    {
     "name": "stdout",
     "output_type": "stream",
     "text": [
      "x= 1 y= 2 z= 3\n"
     ]
    },
    {
     "data": {
      "text/plain": [
       "3"
      ]
     },
     "execution_count": 17,
     "metadata": {},
     "output_type": "execute_result"
    }
   ],
   "source": [
    "findmax(1, 2, 3)"
   ]
  },
  {
   "cell_type": "code",
   "execution_count": 18,
   "metadata": {},
   "outputs": [
    {
     "name": "stdout",
     "output_type": "stream",
     "text": [
      "x= 1.0 y= 2 z= 3\n"
     ]
    },
    {
     "data": {
      "text/plain": [
       "3"
      ]
     },
     "execution_count": 18,
     "metadata": {},
     "output_type": "execute_result"
    }
   ],
   "source": [
    "findmax(1.0, 2, 3)"
   ]
  },
  {
   "cell_type": "markdown",
   "metadata": {},
   "source": [
    "#### Function swap does not swap"
   ]
  },
  {
   "cell_type": "code",
   "execution_count": 27,
   "metadata": {},
   "outputs": [
    {
     "name": "stdout",
     "output_type": "stream",
     "text": [
      "Before Swap x =  100 y =  200 4460716768 4460719968\n",
      "In Swap x =  100 y =  200 4460716768 4460719968\n",
      "4460716768\n",
      "4460719968 4460719968\n",
      "Out Swap x =  200 y =  100 4460719968 4460716768\n",
      "After Swap x =  100 y =  200 4460716768 4460719968\n"
     ]
    }
   ],
   "source": [
    "def swap(x:int, y:int)->'none':\n",
    "    print('In Swap x = ', x,'y = ', y, id(x), id(y))\n",
    "    t = x;\n",
    "    print(id(t))\n",
    "    x = y;\n",
    "    print(id(x),id(y))\n",
    "    y = t;\n",
    "    print('Out Swap x = ', x, 'y = ', y, id(x), id(y))\n",
    "\n",
    "x = 100\n",
    "y = 200\n",
    "print('Before Swap x = ', x, 'y = ', y, id(x), id(y))\n",
    "swap(x, y)\n",
    "print('After Swap x = ', x, 'y = ', y, id(x), id(y))\n",
    "# swap function only changes local addresses\n",
    "# watch 2:21:00"
   ]
  },
  {
   "cell_type": "markdown",
   "metadata": {},
   "source": [
    "#### Function swap that swap using list"
   ]
  },
  {
   "cell_type": "code",
   "execution_count": 28,
   "metadata": {},
   "outputs": [
    {
     "name": "stdout",
     "output_type": "stream",
     "text": [
      "Before Swap x =  100 y =  200 4460716768 4460719968\n",
      "In Swap x =  100 y =  200 4460716768 4460719968\n",
      "4460716768\n",
      "4460719968 4460719968\n",
      "Out Swap x =  200 y =  100 4460719968 4460716768\n",
      "After Swap x =  200 y =  100 4460719968 4460716768\n"
     ]
    }
   ],
   "source": [
    "def swap(x:int, y:int)->'list':\n",
    "    print('In Swap x = ', x,'y = ', y, id(x), id(y))\n",
    "    t = x;\n",
    "    print(id(t))\n",
    "    x = y;\n",
    "    print(id(x),id(y))\n",
    "    y = t;\n",
    "    print('Out Swap x = ', x, 'y = ', y, id(x), id(y))\n",
    "    return [x,y]\n",
    "x = 100\n",
    "y = 200\n",
    "print('Before Swap x = ', x, 'y = ', y, id(x), id(y))\n",
    "a = swap(x, y)\n",
    "x = a[0]\n",
    "y = a[1]\n",
    "print('After Swap x = ', x, 'y = ', y, id(x), id(y))"
   ]
  },
  {
   "cell_type": "code",
   "execution_count": 29,
   "metadata": {},
   "outputs": [
    {
     "data": {
      "text/plain": [
       "[200, 100]"
      ]
     },
     "execution_count": 29,
     "metadata": {},
     "output_type": "execute_result"
    }
   ],
   "source": [
    "a"
   ]
  },
  {
   "cell_type": "markdown",
   "metadata": {},
   "source": [
    "#### Function swap that swap using list"
   ]
  },
  {
   "cell_type": "code",
   "execution_count": 31,
   "metadata": {},
   "outputs": [
    {
     "name": "stdout",
     "output_type": "stream",
     "text": [
      "Before Swap x =  100 y =  200 4460716768 4460719968\n",
      "In Swap x =  100 y =  200 4460716768 4460719968\n",
      "After Swap x =  200 y =  100 4460719968 4460716768\n"
     ]
    }
   ],
   "source": [
    "def swap(x:int, y:int)->'list':\n",
    "    print('In Swap x = ', x,'y = ', y, id(x), id(y))\n",
    "    return [y, x]\n",
    "\n",
    "x = 100\n",
    "y = 200\n",
    "print('Before Swap x = ', x, 'y = ', y, id(x), id(y))\n",
    "a = swap(x, y)\n",
    "x = a[0]\n",
    "y = a[1]\n",
    "print('After Swap x = ', x, 'y = ', y, id(x), id(y))"
   ]
  },
  {
   "cell_type": "code",
   "execution_count": 32,
   "metadata": {},
   "outputs": [
    {
     "name": "stdout",
     "output_type": "stream",
     "text": [
      "100 200\n",
      "200 100\n"
     ]
    }
   ],
   "source": [
    "x = 100\n",
    "y = 200\n",
    "print(x, y)\n",
    "[x, y] = [y, x]\n",
    "print(x, y)\n",
    "# 02:25:00"
   ]
  },
  {
   "cell_type": "code",
   "execution_count": 33,
   "metadata": {},
   "outputs": [
    {
     "name": "stdout",
     "output_type": "stream",
     "text": [
      "200 100\n"
     ]
    }
   ],
   "source": [
    "x = 100\n",
    "y = 200\n",
    "x, y = y, x\n",
    "print(x, y)"
   ]
  },
  {
   "cell_type": "markdown",
   "metadata": {},
   "source": [
    "#### Asignment"
   ]
  },
  {
   "cell_type": "code",
   "execution_count": null,
   "metadata": {},
   "outputs": [],
   "source": [
    "listin = [-4, ]"
   ]
  }
 ],
 "metadata": {
  "kernelspec": {
   "display_name": "Python 3",
   "language": "python",
   "name": "python3"
  },
  "language_info": {
   "codemirror_mode": {
    "name": "ipython",
    "version": 3
   },
   "file_extension": ".py",
   "mimetype": "text/x-python",
   "name": "python",
   "nbconvert_exporter": "python",
   "pygments_lexer": "ipython3",
   "version": "3.6.10"
  }
 },
 "nbformat": 4,
 "nbformat_minor": 4
}
