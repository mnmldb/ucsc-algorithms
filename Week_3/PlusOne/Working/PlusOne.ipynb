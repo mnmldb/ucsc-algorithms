{
 "cells": [
  {
   "cell_type": "code",
   "execution_count": 27,
   "metadata": {},
   "outputs": [],
   "source": [
    "input1 = [1,2,3]\n",
    "input2 = [4,3,2,1]"
   ]
  },
  {
   "cell_type": "code",
   "execution_count": 12,
   "metadata": {},
   "outputs": [],
   "source": [
    "n = len(input1)"
   ]
  },
  {
   "cell_type": "code",
   "execution_count": 54,
   "metadata": {},
   "outputs": [],
   "source": [
    "def one(digit):\n",
    "    output = [] # output[0]: new digit, output[1]: True if carry happens\n",
    "    digit += 1\n",
    "    if digit == 10:\n",
    "        output.append(0)\n",
    "        output.append(True)\n",
    "    else:\n",
    "        output.append(digit)\n",
    "        output.append(False)\n",
    "    return output"
   ]
  },
  {
   "cell_type": "code",
   "execution_count": 10,
   "metadata": {},
   "outputs": [
    {
     "name": "stdout",
     "output_type": "stream",
     "text": [
      "0 [1, False]\n",
      "1 [2, False]\n",
      "2 [3, False]\n",
      "3 [4, False]\n",
      "4 [5, False]\n",
      "5 [6, False]\n",
      "6 [7, False]\n",
      "7 [8, False]\n",
      "8 [9, False]\n",
      "9 [0, True]\n"
     ]
    }
   ],
   "source": [
    "for i in range(10):\n",
    "    print(i, one(i))"
   ]
  },
  {
   "cell_type": "code",
   "execution_count": 17,
   "metadata": {},
   "outputs": [
    {
     "name": "stdout",
     "output_type": "stream",
     "text": [
      "0 2 3\n",
      "1 1 2\n",
      "2 0 1\n"
     ]
    }
   ],
   "source": [
    "for i in range(n):\n",
    "    print(i, n - i - 1, input1[n - i - 1])"
   ]
  },
  {
   "cell_type": "code",
   "execution_count": 61,
   "metadata": {},
   "outputs": [],
   "source": [
    "input1 = [1,2,3]"
   ]
  },
  {
   "cell_type": "code",
   "execution_count": 62,
   "metadata": {},
   "outputs": [],
   "source": [
    "input1.insert(0, 0)"
   ]
  },
  {
   "cell_type": "code",
   "execution_count": 63,
   "metadata": {},
   "outputs": [
    {
     "data": {
      "text/plain": [
       "[0, 1, 2, 3]"
      ]
     },
     "execution_count": 63,
     "metadata": {},
     "output_type": "execute_result"
    }
   ],
   "source": [
    "input1"
   ]
  },
  {
   "cell_type": "code",
   "execution_count": 64,
   "metadata": {},
   "outputs": [
    {
     "name": "stdout",
     "output_type": "stream",
     "text": [
      "0 3 3\n",
      "1 2 2\n",
      "2 1 1\n"
     ]
    }
   ],
   "source": [
    "n = len(input1)\n",
    "for i in range(n - 1):\n",
    "    print(i, n - i - 1, input1[n - i - 1])"
   ]
  },
  {
   "cell_type": "code",
   "execution_count": 65,
   "metadata": {},
   "outputs": [
    {
     "name": "stdout",
     "output_type": "stream",
     "text": [
      "[4, False] [0, 1, 2, 4] False <class 'bool'>\n"
     ]
    }
   ],
   "source": [
    "iteration = 1\n",
    "for i in range(n - 1):\n",
    "    if iteration:\n",
    "        result = one(input1[n - i - 1])\n",
    "        input1[n - i - 1] = result[0]\n",
    "        iteration = result[1]\n",
    "        print(result, input1, iteration, type(iteration))"
   ]
  },
  {
   "cell_type": "code",
   "execution_count": 41,
   "metadata": {},
   "outputs": [
    {
     "data": {
      "text/plain": [
       "[0, 2, 3, 4]"
      ]
     },
     "execution_count": 41,
     "metadata": {},
     "output_type": "execute_result"
    }
   ],
   "source": [
    "input1"
   ]
  },
  {
   "cell_type": "code",
   "execution_count": 47,
   "metadata": {},
   "outputs": [
    {
     "data": {
      "text/plain": [
       "[4, False]"
      ]
     },
     "execution_count": 47,
     "metadata": {},
     "output_type": "execute_result"
    }
   ],
   "source": [
    "one(input1[3])"
   ]
  },
  {
   "cell_type": "code",
   "execution_count": 50,
   "metadata": {},
   "outputs": [
    {
     "name": "stdout",
     "output_type": "stream",
     "text": [
      "s\n",
      "s\n",
      "s\n",
      "s\n",
      "s\n"
     ]
    }
   ],
   "source": [
    "i = 0\n",
    "while i < 5:\n",
    "    print('s')\n",
    "    i += 1"
   ]
  },
  {
   "cell_type": "code",
   "execution_count": 114,
   "metadata": {},
   "outputs": [],
   "source": [
    "# plusOne\n",
    "def _alg(digits):\n",
    "    def _one(digit):\n",
    "        output = [] # output[0]: new digit, output[1]: True if carry happens\n",
    "        digit += 1\n",
    "        if digit == 10:\n",
    "            output.append(0)\n",
    "            output.append(True)\n",
    "        else:\n",
    "            output.append(digit)\n",
    "            output.append(False)\n",
    "        return output\n",
    "    \n",
    "    digits.insert(0, 0) # insert 0 at the beginning of the list\n",
    "    n = len(digits)\n",
    "    iteration = True # set True for the first iteration\n",
    "    for i in range(n - 1):\n",
    "        if iteration:\n",
    "            result = _one(digits[n - i - 1])\n",
    "            digits[n - i - 1] = result[0] # replace with new digit\n",
    "            iteration = result[1] # update iteration\n",
    "            \n",
    "    if iteration: # plus one\n",
    "        digits[0] = 1 \n",
    "\n",
    "    if digits[0] == 0:\n",
    "        return digits[1:]\n",
    "    else:\n",
    "        return digits"
   ]
  },
  {
   "cell_type": "code",
   "execution_count": 105,
   "metadata": {},
   "outputs": [
    {
     "data": {
      "text/plain": [
       "[1, 2, 4]"
      ]
     },
     "execution_count": 105,
     "metadata": {},
     "output_type": "execute_result"
    }
   ],
   "source": [
    "_alg([1,2,3])"
   ]
  },
  {
   "cell_type": "code",
   "execution_count": 106,
   "metadata": {},
   "outputs": [
    {
     "data": {
      "text/plain": [
       "[4, 3, 2, 2]"
      ]
     },
     "execution_count": 106,
     "metadata": {},
     "output_type": "execute_result"
    }
   ],
   "source": [
    "_alg([4,3,2,1])"
   ]
  },
  {
   "cell_type": "code",
   "execution_count": 107,
   "metadata": {},
   "outputs": [
    {
     "data": {
      "text/plain": [
       "[1, 2, 3, 4, 6, 0]"
      ]
     },
     "execution_count": 107,
     "metadata": {},
     "output_type": "execute_result"
    }
   ],
   "source": [
    "_alg([1,2,3,4,5,9])"
   ]
  },
  {
   "cell_type": "code",
   "execution_count": 108,
   "metadata": {},
   "outputs": [
    {
     "data": {
      "text/plain": [
       "[1, 0, 0, 0]"
      ]
     },
     "execution_count": 108,
     "metadata": {},
     "output_type": "execute_result"
    }
   ],
   "source": [
    "_alg([9,9,9])"
   ]
  },
  {
   "cell_type": "code",
   "execution_count": 110,
   "metadata": {},
   "outputs": [],
   "source": [
    "# plusOne inplace\n",
    "def _alg1(digits):\n",
    "    def _one(digit):\n",
    "        output = [] # output[0]: new digit, output[1]: True if carry happens\n",
    "        digit += 1\n",
    "        if digit == 10:\n",
    "            output.append(0)\n",
    "            output.append(True)\n",
    "        else:\n",
    "            output.append(digit)\n",
    "            output.append(False)\n",
    "        return output\n",
    "    \n",
    "    digits.insert(0, 0) # insert 0 at the beginning of the list\n",
    "    n = len(digits)\n",
    "    iteration = True # set True for the first iteration\n",
    "    for i in range(n - 1):\n",
    "        if iteration:\n",
    "            result = _one(digits[n - i - 1])\n",
    "            digits[n - i - 1] = result[0] # replace with new digit\n",
    "            iteration = result[1] # update iteration\n",
    "            \n",
    "    if iteration: # plus one\n",
    "        digits[0] = 1 \n",
    "\n",
    "    if digits[0] == 0:\n",
    "        del digits[0]"
   ]
  },
  {
   "cell_type": "code",
   "execution_count": 112,
   "metadata": {},
   "outputs": [
    {
     "name": "stdout",
     "output_type": "stream",
     "text": [
      "[1, 2, 4] [4, 3, 2, 2] [1, 0, 0, 0]\n"
     ]
    }
   ],
   "source": [
    "input1 = [1,2,3]\n",
    "input2 = [4,3,2,1]\n",
    "input3 = [9,9,9]\n",
    "_alg1(input1)\n",
    "_alg1(input2)\n",
    "_alg1(input3)\n",
    "print(input1, input2, input3)"
   ]
  },
  {
   "cell_type": "code",
   "execution_count": 115,
   "metadata": {},
   "outputs": [
    {
     "data": {
      "text/plain": [
       "[1, 2, 6]"
      ]
     },
     "execution_count": 115,
     "metadata": {},
     "output_type": "execute_result"
    }
   ],
   "source": []
  },
  {
   "cell_type": "code",
   "execution_count": 122,
   "metadata": {},
   "outputs": [],
   "source": [
    "input1 = [1,2,3]\n",
    "input2 = [4,3,2,1]\n",
    "input3 = [9,9,9]"
   ]
  },
  {
   "cell_type": "code",
   "execution_count": 123,
   "metadata": {},
   "outputs": [],
   "source": [
    "def _alg2(digits):\n",
    "    digits = _alg(digits)\n",
    "    n = len(digits)\n",
    "    output = 0\n",
    "    for i in range(n):\n",
    "        output += digits[i] * 10 ** (n - i - 1) \n",
    "    return output"
   ]
  },
  {
   "cell_type": "code",
   "execution_count": 124,
   "metadata": {},
   "outputs": [
    {
     "data": {
      "text/plain": [
       "124"
      ]
     },
     "execution_count": 124,
     "metadata": {},
     "output_type": "execute_result"
    }
   ],
   "source": [
    "_alg2(input1)"
   ]
  },
  {
   "cell_type": "code",
   "execution_count": 125,
   "metadata": {},
   "outputs": [
    {
     "data": {
      "text/plain": [
       "4322"
      ]
     },
     "execution_count": 125,
     "metadata": {},
     "output_type": "execute_result"
    }
   ],
   "source": [
    "_alg2(input2)"
   ]
  },
  {
   "cell_type": "code",
   "execution_count": 126,
   "metadata": {},
   "outputs": [
    {
     "data": {
      "text/plain": [
       "1000"
      ]
     },
     "execution_count": 126,
     "metadata": {},
     "output_type": "execute_result"
    }
   ],
   "source": [
    "_alg2(input3)"
   ]
  },
  {
   "cell_type": "code",
   "execution_count": 1,
   "metadata": {},
   "outputs": [],
   "source": [
    "############################################################\n",
    "# Solution.py\n",
    "# Author: Jagadeesh Vasudevamurthy\n",
    "# Copyright: Jagadeesh Vasudevamurthy 2020\n",
    "###########################################################\n",
    "############################################################\n",
    "# All imports\n",
    "###########################################################\n",
    "from typing import List\n",
    "\n",
    "class Solution:\n",
    "  def __init__(self):\n",
    "    pass\n",
    "\n",
    "  ##Required function to implement\n",
    "  def plusOne(self, digits: List[int]) -> List[int]:\n",
    "    ## NOTHING CAN BE CHANGED HERE\n",
    "    return self._alg(digits)\n",
    "\n",
    "  def plusOneOnSameList(self, digits: List[int]):\n",
    "    ## NOTHING CAN BE CHANGED HERE\n",
    "    return self._alg1(digits)\n",
    "\n",
    "  def convert_to_integer(self,digits: List[int]) -> 'int':\n",
    "    ## NOTHING CAN BE CHANGED HERE\n",
    "    return self._alg2(digits)\n",
    "\n",
    "  ##Implement your code\n",
    "  ##You can have any number of private variables and functions\n",
    "\n",
    "  # plusOne\n",
    "  def _alg(self, digits: List[int]) -> List[int]:\n",
    "      def _one(digit):\n",
    "          output = [] # output[0]: new digit, output[1]: True if carry happens\n",
    "          digit += 1\n",
    "          if digit == 10:\n",
    "              output.append(0)\n",
    "              output.append(True)\n",
    "          else:\n",
    "              output.append(digit)\n",
    "              output.append(False)\n",
    "          return output\n",
    "      \n",
    "      digits.insert(0, 0) # insert 0 at the beginning of the list\n",
    "      n = len(digits)\n",
    "      iteration = True # set True for the first iteration\n",
    "      for i in range(n - 1):\n",
    "          if iteration:\n",
    "              result = _one(digits[n - i - 1])\n",
    "              digits[n - i - 1] = result[0] # replace with new digit\n",
    "              iteration = result[1] # update iteration\n",
    "              \n",
    "      if iteration: # plus one\n",
    "          digits[0] = 1 \n",
    "\n",
    "      if digits[0] == 0:\n",
    "          return digits[1:]\n",
    "      else:\n",
    "          return digits\n",
    "  \n",
    "  # plusOneOnSameList\n",
    "  def _alg1(self, digits):\n",
    "      def _one(digit):\n",
    "          output = [] # output[0]: new digit, output[1]: True if carry happens\n",
    "          digit += 1\n",
    "          if digit == 10:\n",
    "              output.append(0)\n",
    "              output.append(True)\n",
    "          else:\n",
    "              output.append(digit)\n",
    "              output.append(False)\n",
    "          return output\n",
    "      \n",
    "      digits.insert(0, 0) # insert 0 at the beginning of the list\n",
    "      n = len(digits)\n",
    "      iteration = True # set True for the first iteration\n",
    "      for i in range(n - 1):\n",
    "          if iteration:\n",
    "              result = _one(digits[n - i - 1])\n",
    "              digits[n - i - 1] = result[0] # replace with new digit\n",
    "              iteration = result[1] # update iteration\n",
    "              \n",
    "      if iteration: # plus one\n",
    "          digits[0] = 1 \n",
    "\n",
    "      if digits[0] == 0:\n",
    "          del digits[0]\n",
    "\n",
    "  # convert_to_integer\n",
    "  def _alg2(self, digits):\n",
    "      digits = _alg(digits)\n",
    "      n = len(digits)\n",
    "      output = 0\n",
    "      for i in range(n):\n",
    "          output += digits[i] * 10 ** (n - i - 1) \n",
    "      return output"
   ]
  },
  {
   "cell_type": "code",
   "execution_count": 2,
   "metadata": {},
   "outputs": [],
   "source": [
    "s = Solution()"
   ]
  },
  {
   "cell_type": "code",
   "execution_count": 5,
   "metadata": {},
   "outputs": [
    {
     "data": {
      "text/plain": [
       "[1, 2, 4]"
      ]
     },
     "execution_count": 5,
     "metadata": {},
     "output_type": "execute_result"
    }
   ],
   "source": [
    "s.plusOne(input1)"
   ]
  },
  {
   "cell_type": "code",
   "execution_count": 4,
   "metadata": {},
   "outputs": [],
   "source": [
    "input1 = [1,2,3]\n",
    "input2 = [4,3,2,1]\n",
    "input3 = [9,9,9]"
   ]
  },
  {
   "cell_type": "code",
   "execution_count": 6,
   "metadata": {},
   "outputs": [
    {
     "data": {
      "text/plain": [
       "[4, 3, 2, 2]"
      ]
     },
     "execution_count": 6,
     "metadata": {},
     "output_type": "execute_result"
    }
   ],
   "source": [
    "s.plusOne(input2)"
   ]
  },
  {
   "cell_type": "code",
   "execution_count": 7,
   "metadata": {},
   "outputs": [
    {
     "data": {
      "text/plain": [
       "[1, 0, 0, 0]"
      ]
     },
     "execution_count": 7,
     "metadata": {},
     "output_type": "execute_result"
    }
   ],
   "source": [
    "s.plusOne(input3)"
   ]
  },
  {
   "cell_type": "code",
   "execution_count": 8,
   "metadata": {},
   "outputs": [
    {
     "data": {
      "text/plain": [
       "[0, 1, 2, 4]"
      ]
     },
     "execution_count": 8,
     "metadata": {},
     "output_type": "execute_result"
    }
   ],
   "source": [
    "input1"
   ]
  },
  {
   "cell_type": "code",
   "execution_count": 21,
   "metadata": {},
   "outputs": [],
   "source": [
    "# plusOne\n",
    "def _alg(digits):\n",
    "    def _one(digit):\n",
    "        output = [] # output[0]: new digit, output[1]: True if carry happens\n",
    "        digit += 1\n",
    "        if digit == 10:\n",
    "            output.append(0)\n",
    "            output.append(True)\n",
    "        else:\n",
    "            output.append(digit)\n",
    "            output.append(False)\n",
    "        return output\n",
    "    \n",
    "    n = len(digits)\n",
    "    iteration = True # set True for the first iteration\n",
    "    plusone = []\n",
    "    for i in range(n - 1):\n",
    "        if iteration:\n",
    "            result = _one(digits[n - i - 1])\n",
    "            # plusone.insert(0, result[0]) # replace with new digit\n",
    "            plusone.append(result[0])\n",
    "            iteration = result[1] # update iteration\n",
    "            \n",
    "    if iteration: # plus one\n",
    "        plusone.insert(0, 1)\n",
    "\n",
    "    return plusone"
   ]
  },
  {
   "cell_type": "code",
   "execution_count": 24,
   "metadata": {},
   "outputs": [],
   "source": [
    "input1 = [1,2,3]\n",
    "input2 = [4,3,2,1]\n",
    "input3 = [9,9,9]"
   ]
  },
  {
   "cell_type": "code",
   "execution_count": 25,
   "metadata": {},
   "outputs": [
    {
     "data": {
      "text/plain": [
       "[2]"
      ]
     },
     "execution_count": 25,
     "metadata": {},
     "output_type": "execute_result"
    }
   ],
   "source": [
    "_alg(input2)"
   ]
  },
  {
   "cell_type": "code",
   "execution_count": 13,
   "metadata": {},
   "outputs": [],
   "source": [
    "input1.insert(0,1)"
   ]
  },
  {
   "cell_type": "code",
   "execution_count": 14,
   "metadata": {},
   "outputs": [
    {
     "data": {
      "text/plain": [
       "[1, 1, 2, 3]"
      ]
     },
     "execution_count": 14,
     "metadata": {},
     "output_type": "execute_result"
    }
   ],
   "source": []
  },
  {
   "cell_type": "code",
   "execution_count": null,
   "metadata": {},
   "outputs": [],
   "source": []
  }
 ],
 "metadata": {
  "kernelspec": {
   "display_name": "Python 3",
   "language": "python",
   "name": "python3"
  },
  "language_info": {
   "codemirror_mode": {
    "name": "ipython",
    "version": 3
   },
   "file_extension": ".py",
   "mimetype": "text/x-python",
   "name": "python",
   "nbconvert_exporter": "python",
   "pygments_lexer": "ipython3",
   "version": "3.6.10"
  }
 },
 "nbformat": 4,
 "nbformat_minor": 4
}
