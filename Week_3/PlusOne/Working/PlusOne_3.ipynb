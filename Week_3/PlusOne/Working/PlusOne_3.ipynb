{
 "cells": [
  {
   "cell_type": "code",
   "execution_count": 17,
   "metadata": {},
   "outputs": [],
   "source": [
    "############################################################\n",
    "# Solution.py\n",
    "# Author: Jagadeesh Vasudevamurthy\n",
    "# Copyright: Jagadeesh Vasudevamurthy 2020\n",
    "###########################################################\n",
    "############################################################\n",
    "# All imports\n",
    "###########################################################\n",
    "from typing import List\n",
    "\n",
    "class Solution:\n",
    "  def __init__(self):\n",
    "    pass\n",
    "\n",
    "  ##Required function to implement\n",
    "  def plusOne(self, digits: List[int]) -> List[int]:\n",
    "    ## NOTHING CAN BE CHANGED HERE\n",
    "    return self._alg(digits)\n",
    "\n",
    "  def plusOneOnSameList(self, digits: List[int]):\n",
    "    ## NOTHING CAN BE CHANGED HERE\n",
    "    return self._alg1(digits)\n",
    "\n",
    "  def convert_to_integer(self,digits: List[int]) -> 'int':\n",
    "    ## NOTHING CAN BE CHANGED HERE\n",
    "    return self._alg2(digits)\n",
    "\n",
    "  ##Implement your code\n",
    "  ##You can have any number of private variables and functions\n",
    "\n",
    "  # private function\n",
    "  def _one(self, digit):\n",
    "      output = [] # output[0]: new digit, output[1]: True if carry happens\n",
    "      digit += 1\n",
    "      if digit == 10:\n",
    "          output.append(0)\n",
    "          output.append(True)\n",
    "      else:\n",
    "          output.append(digit)\n",
    "          output.append(False)\n",
    "      return output \n",
    "  \n",
    "  # plusOne\n",
    "  def _alg(self, digits):\n",
    "      n = len(digits)\n",
    "      iteration = True # set True for the first iteration\n",
    "      output = []\n",
    "      for i in range(n):\n",
    "          if iteration:\n",
    "              result = self._one(digits[n - i - 1])\n",
    "              output.insert(0, result[0]) # replace with new digit\n",
    "              iteration = result[1] # update iteration\n",
    "          else:\n",
    "              output.insert(0, digits[n - i - 1])\n",
    "            \n",
    "      if iteration: # plus one\n",
    "          output.insert(0, 1)\n",
    "\n",
    "      return output\n",
    "\n",
    "  # plusOneOnSameList\n",
    "  def _alg1(self, digits):\n",
    "      digits.insert(0, 0) # insert 0 at the beginning of the list\n",
    "      n = len(digits)\n",
    "      iteration = True # set True for the first iteration\n",
    "      for i in range(n - 1):\n",
    "          if iteration:\n",
    "              result = self._one(digits[n - i - 1])\n",
    "              digits[n - i - 1] = result[0] # replace with new digit\n",
    "              iteration = result[1] # update iteration\n",
    "              \n",
    "      if iteration: # plus one\n",
    "          digits[0] = 1 \n",
    "\n",
    "      if digits[0] == 0:\n",
    "          del digits[0]\n",
    "\n",
    "  # convert_to_integer\n",
    "  def _alg2(self, digits):\n",
    "      digits = self._alg(digits)\n",
    "      n = len(digits)\n",
    "      output = 0\n",
    "      for i in range(n):\n",
    "          output += digits[i] * 10 ** (n - i - 1) \n",
    "      return output"
   ]
  },
  {
   "cell_type": "code",
   "execution_count": 18,
   "metadata": {},
   "outputs": [],
   "source": [
    "s = Solution()"
   ]
  },
  {
   "cell_type": "code",
   "execution_count": 21,
   "metadata": {},
   "outputs": [
    {
     "data": {
      "text/plain": [
       "[1, 2, 4]"
      ]
     },
     "execution_count": 21,
     "metadata": {},
     "output_type": "execute_result"
    }
   ],
   "source": [
    "s.plusOne([1,2,3])"
   ]
  },
  {
   "cell_type": "code",
   "execution_count": 20,
   "metadata": {},
   "outputs": [
    {
     "name": "stdout",
     "output_type": "stream",
     "text": [
      "[1, 2, 4]\n"
     ]
    }
   ],
   "source": [
    "input1 = [1,2,3]\n",
    "s.plusOneOnSameList(input1)\n",
    "print(input1)"
   ]
  },
  {
   "cell_type": "code",
   "execution_count": 19,
   "metadata": {},
   "outputs": [
    {
     "data": {
      "text/plain": [
       "124"
      ]
     },
     "execution_count": 19,
     "metadata": {},
     "output_type": "execute_result"
    }
   ],
   "source": [
    "s.convert_to_integer([1,2,3])"
   ]
  },
  {
   "cell_type": "code",
   "execution_count": null,
   "metadata": {},
   "outputs": [],
   "source": []
  }
 ],
 "metadata": {
  "kernelspec": {
   "display_name": "Python 3",
   "language": "python",
   "name": "python3"
  },
  "language_info": {
   "codemirror_mode": {
    "name": "ipython",
    "version": 3
   },
   "file_extension": ".py",
   "mimetype": "text/x-python",
   "name": "python",
   "nbconvert_exporter": "python",
   "pygments_lexer": "ipython3",
   "version": "3.6.10"
  }
 },
 "nbformat": 4,
 "nbformat_minor": 4
}
