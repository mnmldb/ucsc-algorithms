{
 "cells": [
  {
   "cell_type": "code",
   "execution_count": 1,
   "metadata": {},
   "outputs": [],
   "source": [
    "# private function\n",
    "def _one(digit):\n",
    "    output = [] # output[0]: new digit, output[1]: True if carry happens\n",
    "    digit += 1\n",
    "    if digit == 10:\n",
    "        output.append(0)\n",
    "        output.append(True)\n",
    "    else:\n",
    "        output.append(digit)\n",
    "        output.append(False)\n",
    "    return output"
   ]
  },
  {
   "cell_type": "code",
   "execution_count": 17,
   "metadata": {},
   "outputs": [],
   "source": [
    "# plusOne\n",
    "def _alg(digits):\n",
    "    n = len(digits)\n",
    "    iteration = True # set True for the first iteration\n",
    "    output = []\n",
    "    for i in range(n):\n",
    "        if iteration:\n",
    "            result = _one(digits[n - i - 1])\n",
    "            output.insert(0, result[0]) # replace with new digit\n",
    "            iteration = result[1] # update iteration\n",
    "        else:\n",
    "            output.insert(0, digits[n - i - 1])\n",
    "            \n",
    "    if iteration: # plus one\n",
    "        output.insert(0, 1)\n",
    "\n",
    "    return output"
   ]
  },
  {
   "cell_type": "code",
   "execution_count": 18,
   "metadata": {},
   "outputs": [],
   "source": [
    "input1 = [1,2,3]\n",
    "input2 = [4,3,2,1]\n",
    "input3 = [9,9,9]"
   ]
  },
  {
   "cell_type": "code",
   "execution_count": 19,
   "metadata": {},
   "outputs": [
    {
     "name": "stdout",
     "output_type": "stream",
     "text": [
      "[1, 2, 4] [1, 2, 3]\n",
      "[4, 3, 2, 2] [4, 3, 2, 1]\n",
      "[1, 0, 0, 0] [9, 9, 9]\n"
     ]
    }
   ],
   "source": [
    "print(_alg(input1), input1)\n",
    "print(_alg(input2), input2)\n",
    "print(_alg(input3), input3)"
   ]
  },
  {
   "cell_type": "code",
   "execution_count": 11,
   "metadata": {},
   "outputs": [],
   "source": [
    "# plusOneOnSameList\n",
    "def _alg1(digits):\n",
    "    digits.insert(0, 0) # insert 0 at the beginning of the list\n",
    "    n = len(digits)\n",
    "    iteration = True # set True for the first iteration\n",
    "    for i in range(n - 1):\n",
    "        if iteration:\n",
    "            result = _one(digits[n - i - 1])\n",
    "            digits[n - i - 1] = result[0] # replace with new digit\n",
    "            iteration = result[1] # update iteration\n",
    "            \n",
    "    if iteration: # plus one\n",
    "        digits[0] = 1 \n",
    "\n",
    "    if digits[0] == 0:\n",
    "        del digits[0]"
   ]
  },
  {
   "cell_type": "code",
   "execution_count": 15,
   "metadata": {},
   "outputs": [],
   "source": [
    "input1 = [1,2,3]\n",
    "input2 = [4,3,2,1]\n",
    "input3 = [9,9,9]"
   ]
  },
  {
   "cell_type": "code",
   "execution_count": 16,
   "metadata": {},
   "outputs": [
    {
     "name": "stdout",
     "output_type": "stream",
     "text": [
      "None [1, 2, 4]\n",
      "None [4, 3, 2, 2]\n",
      "None [1, 0, 0, 0]\n"
     ]
    }
   ],
   "source": [
    "print(_alg1(input1), input1)\n",
    "print(_alg1(input2), input2)\n",
    "print(_alg1(input3), input3)"
   ]
  },
  {
   "cell_type": "code",
   "execution_count": 20,
   "metadata": {},
   "outputs": [],
   "source": [
    "# convert_to_integer\n",
    "def _alg2(digits):\n",
    "    digits = _alg(digits)\n",
    "    n = len(digits)\n",
    "    output = 0\n",
    "    for i in range(n):\n",
    "        output += digits[i] * 10 ** (n - i - 1) \n",
    "    return output"
   ]
  },
  {
   "cell_type": "code",
   "execution_count": 21,
   "metadata": {},
   "outputs": [],
   "source": [
    "input1 = [1,2,3]\n",
    "input2 = [4,3,2,1]\n",
    "input3 = [9,9,9]"
   ]
  },
  {
   "cell_type": "code",
   "execution_count": 23,
   "metadata": {},
   "outputs": [
    {
     "name": "stdout",
     "output_type": "stream",
     "text": [
      "124 [1, 2, 3]\n",
      "4322 [4, 3, 2, 1]\n",
      "1000 [9, 9, 9]\n"
     ]
    }
   ],
   "source": [
    "print(_alg2(input1), input1)\n",
    "print(_alg2(input2), input2)\n",
    "print(_alg2(input3), input3)"
   ]
  },
  {
   "cell_type": "code",
   "execution_count": 24,
   "metadata": {},
   "outputs": [],
   "source": [
    "# class\n",
    "############################################################\n",
    "# Solution.py\n",
    "# Author: Jagadeesh Vasudevamurthy\n",
    "# Copyright: Jagadeesh Vasudevamurthy 2020\n",
    "###########################################################\n",
    "############################################################\n",
    "# All imports\n",
    "###########################################################\n",
    "from typing import List\n",
    "\n",
    "class Solution:\n",
    "  def __init__(self):\n",
    "    pass\n",
    "\n",
    "  ##Required function to implement\n",
    "  def plusOne(self, digits: List[int]) -> List[int]:\n",
    "    ## NOTHING CAN BE CHANGED HERE\n",
    "    return self._alg(digits)\n",
    "\n",
    "  def plusOneOnSameList(self, digits: List[int]):\n",
    "    ## NOTHING CAN BE CHANGED HERE\n",
    "    return self._alg1(digits)\n",
    "\n",
    "  def convert_to_integer(self,digits: List[int]) -> 'int':\n",
    "    ## NOTHING CAN BE CHANGED HERE\n",
    "    return self._alg2(digits)\n",
    "\n",
    "  ##Implement your code\n",
    "  ##You can have any number of private variables and functions\n",
    "\n",
    "  # private function\n",
    "  def _one(self, digit):\n",
    "      output = [] # output[0]: new digit, output[1]: True if carry happens\n",
    "      digit += 1\n",
    "      if digit == 10:\n",
    "          output.append(0)\n",
    "          output.append(True)\n",
    "      else:\n",
    "          output.append(digit)\n",
    "          output.append(False)\n",
    "      return output \n",
    "  \n",
    "  # plusOne\n",
    "  def _alg(self, digits):\n",
    "      n = len(digits)\n",
    "      iteration = True # set True for the first iteration\n",
    "      output = []\n",
    "      for i in range(n):\n",
    "          if iteration:\n",
    "              result = _one(digits[n - i - 1])\n",
    "              output.insert(0, result[0]) # replace with new digit\n",
    "              iteration = result[1] # update iteration\n",
    "          else:\n",
    "              output.insert(0, digits[n - i - 1])\n",
    "            \n",
    "      if iteration: # plus one\n",
    "          output.insert(0, 1)\n",
    "\n",
    "      return output\n",
    "\n",
    "  # plusOneOnSameList\n",
    "  def _alg1(self, digits):\n",
    "      digits.insert(0, 0) # insert 0 at the beginning of the list\n",
    "      n = len(digits)\n",
    "      iteration = True # set True for the first iteration\n",
    "      for i in range(n - 1):\n",
    "          if iteration:\n",
    "              result = _one(digits[n - i - 1])\n",
    "              digits[n - i - 1] = result[0] # replace with new digit\n",
    "              iteration = result[1] # update iteration\n",
    "              \n",
    "      if iteration: # plus one\n",
    "          digits[0] = 1 \n",
    "\n",
    "      if digits[0] == 0:\n",
    "          del digits[0]\n",
    "\n",
    "  # convert_to_integer\n",
    "  def _alg2(self, digits):\n",
    "      digits = _alg(digits)\n",
    "      n = len(digits)\n",
    "      output = 0\n",
    "      for i in range(n):\n",
    "          output += digits[i] * 10 ** (n - i - 1) \n",
    "      return output"
   ]
  },
  {
   "cell_type": "code",
   "execution_count": 25,
   "metadata": {},
   "outputs": [],
   "source": [
    "s = Solution()"
   ]
  },
  {
   "cell_type": "code",
   "execution_count": 26,
   "metadata": {},
   "outputs": [],
   "source": [
    "input1 = [1,2,3]\n",
    "input2 = [4,3,2,1]\n",
    "input3 = [9,9,9]"
   ]
  },
  {
   "cell_type": "code",
   "execution_count": 27,
   "metadata": {},
   "outputs": [
    {
     "name": "stdout",
     "output_type": "stream",
     "text": [
      "[1, 2, 4] [1, 2, 3]\n",
      "[4, 3, 2, 2] [4, 3, 2, 1]\n",
      "[1, 0, 0, 0] [9, 9, 9]\n"
     ]
    }
   ],
   "source": [
    "print(s.plusOne(input1), input1)\n",
    "print(s.plusOne(input2), input2)\n",
    "print(s.plusOne(input3), input3)"
   ]
  },
  {
   "cell_type": "code",
   "execution_count": 28,
   "metadata": {},
   "outputs": [],
   "source": [
    "input1 = [1,2,3]\n",
    "input2 = [4,3,2,1]\n",
    "input3 = [9,9,9]"
   ]
  },
  {
   "cell_type": "code",
   "execution_count": 29,
   "metadata": {},
   "outputs": [
    {
     "name": "stdout",
     "output_type": "stream",
     "text": [
      "None [1, 2, 4]\n",
      "None [4, 3, 2, 2]\n",
      "None [1, 0, 0, 0]\n"
     ]
    }
   ],
   "source": [
    "print(s.plusOneOnSameList(input1), input1)\n",
    "print(s.plusOneOnSameList(input2), input2)\n",
    "print(s.plusOneOnSameList(input3), input3)"
   ]
  },
  {
   "cell_type": "code",
   "execution_count": 30,
   "metadata": {},
   "outputs": [],
   "source": [
    "input1 = [1,2,3]\n",
    "input2 = [4,3,2,1]\n",
    "input3 = [9,9,9]"
   ]
  },
  {
   "cell_type": "code",
   "execution_count": 32,
   "metadata": {},
   "outputs": [
    {
     "name": "stdout",
     "output_type": "stream",
     "text": [
      "124 [1, 2, 3]\n",
      "4322 [4, 3, 2, 1]\n",
      "1000 [9, 9, 9]\n"
     ]
    }
   ],
   "source": [
    "print(s.convert_to_integer(input1), input1)\n",
    "print(s.convert_to_integer(input2), input2)\n",
    "print(s.convert_to_integer(input3), input3)"
   ]
  },
  {
   "cell_type": "code",
   "execution_count": 51,
   "metadata": {},
   "outputs": [],
   "source": [
    "from typing import List\n",
    "from Util import *\n",
    "from time import process_time \n",
    "from Solution import *"
   ]
  },
  {
   "cell_type": "code",
   "execution_count": 52,
   "metadata": {},
   "outputs": [],
   "source": [
    "class PlusOne():\n",
    "  def __init__(self):\n",
    "    self._u = Util()\n",
    "    self._test_bench()\n",
    "\n",
    "  def _plus_one(self, digits: List[int]) -> List[int]:\n",
    "    s = Solution()\n",
    "    b = s.plusOne(digits)  # Function to implement\n",
    "    return b\n",
    "\n",
    "  def _plus_one_on_same_list(self, digits: List[int]):\n",
    "    s = Solution()\n",
    "    s.plusOneOnSameList(digits)  # Function to implement\n",
    "\n",
    "  def _check(self, a: List[int], b: List[int], v:'int')->'bool':\n",
    "    s = Solution()\n",
    "    x = s.convert_to_integer(a) # Function to implement\n",
    "    y = s.convert_to_integer(b) \n",
    "    if (y == (x + v)):\n",
    "      return True\n",
    "    return False\n",
    "\n",
    "  def _test_bench(self):\n",
    "    self._tests()\n",
    "    self._testn()\n",
    "    print(\"ALL TESTS PASSED\")\n",
    "\n",
    "  def _test1(self,a:List[int],show:'bool'):\n",
    "    self._work  = 0\n",
    "    b = self._plus_one(a)\n",
    "    f = self._check(a,b,1)\n",
    "    if (show or (f == False)):\n",
    "      self._u.print_list(a)\n",
    "      self._u.print_list(b)\n",
    "    assert(f == True)\n",
    "\n",
    "    self._plus_one_on_same_list(a)\n",
    "    f = self._check(a,b,0) #b is already a+1\n",
    "    if (show or (f == False)):\n",
    "      self._u.print_list(a)\n",
    "      self._u.print_list(b)\n",
    "    assert(f == True)\n",
    "    if (show):\n",
    "      print(\"--------------------------------------\")\n",
    " \n",
    "  def _tests(self):\n",
    "    show = True\n",
    "    a = [1, 2, 3]\n",
    "    self._test1(a,show)\n",
    "\n",
    "    a = [1, 7, 8, 9]\n",
    "    self._test1(a,show)\n",
    "\n",
    "    a = [9, 9]\n",
    "    self._test1(a,show)\n",
    "\n",
    "  def _testn(self):\n",
    "    show = False\n",
    "    N = 100000 \n",
    "    print(N, \"tests start\",N)\n",
    "    for i in range(N):\n",
    "      a = []\n",
    "      if (i == 0):\n",
    "        a.append(i)\n",
    "      else:\n",
    "        while (i != 0):\n",
    "          a.append(i % 10)\n",
    "          i = i //10\n",
    "      self._test1(a,show)\n",
    "    print(N, \"tests passed\")"
   ]
  },
  {
   "cell_type": "code",
   "execution_count": 53,
   "metadata": {},
   "outputs": [
    {
     "ename": "NameError",
     "evalue": "name '_one' is not defined",
     "output_type": "error",
     "traceback": [
      "\u001b[0;31m---------------------------------------------------------------------------\u001b[0m",
      "\u001b[0;31mNameError\u001b[0m                                 Traceback (most recent call last)",
      "\u001b[0;32m<ipython-input-53-241c7177247e>\u001b[0m in \u001b[0;36m<module>\u001b[0;34m\u001b[0m\n\u001b[0;32m----> 1\u001b[0;31m \u001b[0ms\u001b[0m \u001b[0;34m=\u001b[0m \u001b[0mPlusOne\u001b[0m\u001b[0;34m(\u001b[0m\u001b[0;34m)\u001b[0m\u001b[0;34m\u001b[0m\u001b[0;34m\u001b[0m\u001b[0m\n\u001b[0m",
      "\u001b[0;32m<ipython-input-52-23fa6b3de7ea>\u001b[0m in \u001b[0;36m__init__\u001b[0;34m(self)\u001b[0m\n\u001b[1;32m      2\u001b[0m   \u001b[0;32mdef\u001b[0m \u001b[0m__init__\u001b[0m\u001b[0;34m(\u001b[0m\u001b[0mself\u001b[0m\u001b[0;34m)\u001b[0m\u001b[0;34m:\u001b[0m\u001b[0;34m\u001b[0m\u001b[0;34m\u001b[0m\u001b[0m\n\u001b[1;32m      3\u001b[0m     \u001b[0mself\u001b[0m\u001b[0;34m.\u001b[0m\u001b[0m_u\u001b[0m \u001b[0;34m=\u001b[0m \u001b[0mUtil\u001b[0m\u001b[0;34m(\u001b[0m\u001b[0;34m)\u001b[0m\u001b[0;34m\u001b[0m\u001b[0;34m\u001b[0m\u001b[0m\n\u001b[0;32m----> 4\u001b[0;31m     \u001b[0mself\u001b[0m\u001b[0;34m.\u001b[0m\u001b[0m_test_bench\u001b[0m\u001b[0;34m(\u001b[0m\u001b[0;34m)\u001b[0m\u001b[0;34m\u001b[0m\u001b[0;34m\u001b[0m\u001b[0m\n\u001b[0m\u001b[1;32m      5\u001b[0m \u001b[0;34m\u001b[0m\u001b[0m\n\u001b[1;32m      6\u001b[0m   \u001b[0;32mdef\u001b[0m \u001b[0m_plus_one\u001b[0m\u001b[0;34m(\u001b[0m\u001b[0mself\u001b[0m\u001b[0;34m,\u001b[0m \u001b[0mdigits\u001b[0m\u001b[0;34m:\u001b[0m \u001b[0mList\u001b[0m\u001b[0;34m[\u001b[0m\u001b[0mint\u001b[0m\u001b[0;34m]\u001b[0m\u001b[0;34m)\u001b[0m \u001b[0;34m->\u001b[0m \u001b[0mList\u001b[0m\u001b[0;34m[\u001b[0m\u001b[0mint\u001b[0m\u001b[0;34m]\u001b[0m\u001b[0;34m:\u001b[0m\u001b[0;34m\u001b[0m\u001b[0;34m\u001b[0m\u001b[0m\n",
      "\u001b[0;32m<ipython-input-52-23fa6b3de7ea>\u001b[0m in \u001b[0;36m_test_bench\u001b[0;34m(self)\u001b[0m\n\u001b[1;32m     22\u001b[0m \u001b[0;34m\u001b[0m\u001b[0m\n\u001b[1;32m     23\u001b[0m   \u001b[0;32mdef\u001b[0m \u001b[0m_test_bench\u001b[0m\u001b[0;34m(\u001b[0m\u001b[0mself\u001b[0m\u001b[0;34m)\u001b[0m\u001b[0;34m:\u001b[0m\u001b[0;34m\u001b[0m\u001b[0;34m\u001b[0m\u001b[0m\n\u001b[0;32m---> 24\u001b[0;31m     \u001b[0mself\u001b[0m\u001b[0;34m.\u001b[0m\u001b[0m_tests\u001b[0m\u001b[0;34m(\u001b[0m\u001b[0;34m)\u001b[0m\u001b[0;34m\u001b[0m\u001b[0;34m\u001b[0m\u001b[0m\n\u001b[0m\u001b[1;32m     25\u001b[0m     \u001b[0mself\u001b[0m\u001b[0;34m.\u001b[0m\u001b[0m_testn\u001b[0m\u001b[0;34m(\u001b[0m\u001b[0;34m)\u001b[0m\u001b[0;34m\u001b[0m\u001b[0;34m\u001b[0m\u001b[0m\n\u001b[1;32m     26\u001b[0m     \u001b[0mprint\u001b[0m\u001b[0;34m(\u001b[0m\u001b[0;34m\"ALL TESTS PASSED\"\u001b[0m\u001b[0;34m)\u001b[0m\u001b[0;34m\u001b[0m\u001b[0;34m\u001b[0m\u001b[0m\n",
      "\u001b[0;32m<ipython-input-52-23fa6b3de7ea>\u001b[0m in \u001b[0;36m_tests\u001b[0;34m(self)\u001b[0m\n\u001b[1;32m     47\u001b[0m     \u001b[0mshow\u001b[0m \u001b[0;34m=\u001b[0m \u001b[0;32mTrue\u001b[0m\u001b[0;34m\u001b[0m\u001b[0;34m\u001b[0m\u001b[0m\n\u001b[1;32m     48\u001b[0m     \u001b[0ma\u001b[0m \u001b[0;34m=\u001b[0m \u001b[0;34m[\u001b[0m\u001b[0;36m1\u001b[0m\u001b[0;34m,\u001b[0m \u001b[0;36m2\u001b[0m\u001b[0;34m,\u001b[0m \u001b[0;36m3\u001b[0m\u001b[0;34m]\u001b[0m\u001b[0;34m\u001b[0m\u001b[0;34m\u001b[0m\u001b[0m\n\u001b[0;32m---> 49\u001b[0;31m     \u001b[0mself\u001b[0m\u001b[0;34m.\u001b[0m\u001b[0m_test1\u001b[0m\u001b[0;34m(\u001b[0m\u001b[0ma\u001b[0m\u001b[0;34m,\u001b[0m\u001b[0mshow\u001b[0m\u001b[0;34m)\u001b[0m\u001b[0;34m\u001b[0m\u001b[0;34m\u001b[0m\u001b[0m\n\u001b[0m\u001b[1;32m     50\u001b[0m \u001b[0;34m\u001b[0m\u001b[0m\n\u001b[1;32m     51\u001b[0m     \u001b[0ma\u001b[0m \u001b[0;34m=\u001b[0m \u001b[0;34m[\u001b[0m\u001b[0;36m1\u001b[0m\u001b[0;34m,\u001b[0m \u001b[0;36m7\u001b[0m\u001b[0;34m,\u001b[0m \u001b[0;36m8\u001b[0m\u001b[0;34m,\u001b[0m \u001b[0;36m9\u001b[0m\u001b[0;34m]\u001b[0m\u001b[0;34m\u001b[0m\u001b[0;34m\u001b[0m\u001b[0m\n",
      "\u001b[0;32m<ipython-input-52-23fa6b3de7ea>\u001b[0m in \u001b[0;36m_test1\u001b[0;34m(self, a, show)\u001b[0m\n\u001b[1;32m     28\u001b[0m   \u001b[0;32mdef\u001b[0m \u001b[0m_test1\u001b[0m\u001b[0;34m(\u001b[0m\u001b[0mself\u001b[0m\u001b[0;34m,\u001b[0m\u001b[0ma\u001b[0m\u001b[0;34m:\u001b[0m\u001b[0mList\u001b[0m\u001b[0;34m[\u001b[0m\u001b[0mint\u001b[0m\u001b[0;34m]\u001b[0m\u001b[0;34m,\u001b[0m\u001b[0mshow\u001b[0m\u001b[0;34m:\u001b[0m\u001b[0;34m'bool'\u001b[0m\u001b[0;34m)\u001b[0m\u001b[0;34m:\u001b[0m\u001b[0;34m\u001b[0m\u001b[0;34m\u001b[0m\u001b[0m\n\u001b[1;32m     29\u001b[0m     \u001b[0mself\u001b[0m\u001b[0;34m.\u001b[0m\u001b[0m_work\u001b[0m  \u001b[0;34m=\u001b[0m \u001b[0;36m0\u001b[0m\u001b[0;34m\u001b[0m\u001b[0;34m\u001b[0m\u001b[0m\n\u001b[0;32m---> 30\u001b[0;31m     \u001b[0mb\u001b[0m \u001b[0;34m=\u001b[0m \u001b[0mself\u001b[0m\u001b[0;34m.\u001b[0m\u001b[0m_plus_one\u001b[0m\u001b[0;34m(\u001b[0m\u001b[0ma\u001b[0m\u001b[0;34m)\u001b[0m\u001b[0;34m\u001b[0m\u001b[0;34m\u001b[0m\u001b[0m\n\u001b[0m\u001b[1;32m     31\u001b[0m     \u001b[0mf\u001b[0m \u001b[0;34m=\u001b[0m \u001b[0mself\u001b[0m\u001b[0;34m.\u001b[0m\u001b[0m_check\u001b[0m\u001b[0;34m(\u001b[0m\u001b[0ma\u001b[0m\u001b[0;34m,\u001b[0m\u001b[0mb\u001b[0m\u001b[0;34m,\u001b[0m\u001b[0;36m1\u001b[0m\u001b[0;34m)\u001b[0m\u001b[0;34m\u001b[0m\u001b[0;34m\u001b[0m\u001b[0m\n\u001b[1;32m     32\u001b[0m     \u001b[0;32mif\u001b[0m \u001b[0;34m(\u001b[0m\u001b[0mshow\u001b[0m \u001b[0;32mor\u001b[0m \u001b[0;34m(\u001b[0m\u001b[0mf\u001b[0m \u001b[0;34m==\u001b[0m \u001b[0;32mFalse\u001b[0m\u001b[0;34m)\u001b[0m\u001b[0;34m)\u001b[0m\u001b[0;34m:\u001b[0m\u001b[0;34m\u001b[0m\u001b[0;34m\u001b[0m\u001b[0m\n",
      "\u001b[0;32m<ipython-input-52-23fa6b3de7ea>\u001b[0m in \u001b[0;36m_plus_one\u001b[0;34m(self, digits)\u001b[0m\n\u001b[1;32m      6\u001b[0m   \u001b[0;32mdef\u001b[0m \u001b[0m_plus_one\u001b[0m\u001b[0;34m(\u001b[0m\u001b[0mself\u001b[0m\u001b[0;34m,\u001b[0m \u001b[0mdigits\u001b[0m\u001b[0;34m:\u001b[0m \u001b[0mList\u001b[0m\u001b[0;34m[\u001b[0m\u001b[0mint\u001b[0m\u001b[0;34m]\u001b[0m\u001b[0;34m)\u001b[0m \u001b[0;34m->\u001b[0m \u001b[0mList\u001b[0m\u001b[0;34m[\u001b[0m\u001b[0mint\u001b[0m\u001b[0;34m]\u001b[0m\u001b[0;34m:\u001b[0m\u001b[0;34m\u001b[0m\u001b[0;34m\u001b[0m\u001b[0m\n\u001b[1;32m      7\u001b[0m     \u001b[0ms\u001b[0m \u001b[0;34m=\u001b[0m \u001b[0mSolution\u001b[0m\u001b[0;34m(\u001b[0m\u001b[0;34m)\u001b[0m\u001b[0;34m\u001b[0m\u001b[0;34m\u001b[0m\u001b[0m\n\u001b[0;32m----> 8\u001b[0;31m     \u001b[0mb\u001b[0m \u001b[0;34m=\u001b[0m \u001b[0ms\u001b[0m\u001b[0;34m.\u001b[0m\u001b[0mplusOne\u001b[0m\u001b[0;34m(\u001b[0m\u001b[0mdigits\u001b[0m\u001b[0;34m)\u001b[0m  \u001b[0;31m# Function to implement\u001b[0m\u001b[0;34m\u001b[0m\u001b[0;34m\u001b[0m\u001b[0m\n\u001b[0m\u001b[1;32m      9\u001b[0m     \u001b[0;32mreturn\u001b[0m \u001b[0mb\u001b[0m\u001b[0;34m\u001b[0m\u001b[0;34m\u001b[0m\u001b[0m\n\u001b[1;32m     10\u001b[0m \u001b[0;34m\u001b[0m\u001b[0m\n",
      "\u001b[0;32m~/Documents/UCSC/Week_3/PlusOne/Solution.py\u001b[0m in \u001b[0;36mplusOne\u001b[0;34m(self, digits)\u001b[0m\n\u001b[1;32m     16\u001b[0m   \u001b[0;32mdef\u001b[0m \u001b[0mplusOne\u001b[0m\u001b[0;34m(\u001b[0m\u001b[0mself\u001b[0m\u001b[0;34m,\u001b[0m \u001b[0mdigits\u001b[0m\u001b[0;34m:\u001b[0m \u001b[0mList\u001b[0m\u001b[0;34m[\u001b[0m\u001b[0mint\u001b[0m\u001b[0;34m]\u001b[0m\u001b[0;34m)\u001b[0m \u001b[0;34m->\u001b[0m \u001b[0mList\u001b[0m\u001b[0;34m[\u001b[0m\u001b[0mint\u001b[0m\u001b[0;34m]\u001b[0m\u001b[0;34m:\u001b[0m\u001b[0;34m\u001b[0m\u001b[0;34m\u001b[0m\u001b[0m\n\u001b[1;32m     17\u001b[0m     \u001b[0;31m## NOTHING CAN BE CHANGED HERE\u001b[0m\u001b[0;34m\u001b[0m\u001b[0;34m\u001b[0m\u001b[0;34m\u001b[0m\u001b[0m\n\u001b[0;32m---> 18\u001b[0;31m     \u001b[0;32mreturn\u001b[0m \u001b[0mself\u001b[0m\u001b[0;34m.\u001b[0m\u001b[0m_alg\u001b[0m\u001b[0;34m(\u001b[0m\u001b[0mdigits\u001b[0m\u001b[0;34m)\u001b[0m\u001b[0;34m\u001b[0m\u001b[0;34m\u001b[0m\u001b[0m\n\u001b[0m\u001b[1;32m     19\u001b[0m \u001b[0;34m\u001b[0m\u001b[0m\n\u001b[1;32m     20\u001b[0m   \u001b[0;32mdef\u001b[0m \u001b[0mplusOneOnSameList\u001b[0m\u001b[0;34m(\u001b[0m\u001b[0mself\u001b[0m\u001b[0;34m,\u001b[0m \u001b[0mdigits\u001b[0m\u001b[0;34m:\u001b[0m \u001b[0mList\u001b[0m\u001b[0;34m[\u001b[0m\u001b[0mint\u001b[0m\u001b[0;34m]\u001b[0m\u001b[0;34m)\u001b[0m\u001b[0;34m:\u001b[0m\u001b[0;34m\u001b[0m\u001b[0;34m\u001b[0m\u001b[0m\n",
      "\u001b[0;32m~/Documents/UCSC/Week_3/PlusOne/Solution.py\u001b[0m in \u001b[0;36m_alg\u001b[0;34m(self, digits)\u001b[0m\n\u001b[1;32m     48\u001b[0m       \u001b[0;32mfor\u001b[0m \u001b[0mi\u001b[0m \u001b[0;32min\u001b[0m \u001b[0mrange\u001b[0m\u001b[0;34m(\u001b[0m\u001b[0mn\u001b[0m\u001b[0;34m)\u001b[0m\u001b[0;34m:\u001b[0m\u001b[0;34m\u001b[0m\u001b[0;34m\u001b[0m\u001b[0m\n\u001b[1;32m     49\u001b[0m           \u001b[0;32mif\u001b[0m \u001b[0miteration\u001b[0m\u001b[0;34m:\u001b[0m\u001b[0;34m\u001b[0m\u001b[0;34m\u001b[0m\u001b[0m\n\u001b[0;32m---> 50\u001b[0;31m               \u001b[0mresult\u001b[0m \u001b[0;34m=\u001b[0m \u001b[0mself\u001b[0m\u001b[0;34m.\u001b[0m\u001b[0m_one\u001b[0m\u001b[0;34m(\u001b[0m\u001b[0mdigits\u001b[0m\u001b[0;34m[\u001b[0m\u001b[0mn\u001b[0m \u001b[0;34m-\u001b[0m \u001b[0mi\u001b[0m \u001b[0;34m-\u001b[0m \u001b[0;36m1\u001b[0m\u001b[0;34m]\u001b[0m\u001b[0;34m)\u001b[0m\u001b[0;34m\u001b[0m\u001b[0;34m\u001b[0m\u001b[0m\n\u001b[0m\u001b[1;32m     51\u001b[0m               \u001b[0moutput\u001b[0m\u001b[0;34m.\u001b[0m\u001b[0minsert\u001b[0m\u001b[0;34m(\u001b[0m\u001b[0;36m0\u001b[0m\u001b[0;34m,\u001b[0m \u001b[0mresult\u001b[0m\u001b[0;34m[\u001b[0m\u001b[0;36m0\u001b[0m\u001b[0;34m]\u001b[0m\u001b[0;34m)\u001b[0m \u001b[0;31m# replace with new digit\u001b[0m\u001b[0;34m\u001b[0m\u001b[0;34m\u001b[0m\u001b[0m\n\u001b[1;32m     52\u001b[0m               \u001b[0miteration\u001b[0m \u001b[0;34m=\u001b[0m \u001b[0mresult\u001b[0m\u001b[0;34m[\u001b[0m\u001b[0;36m1\u001b[0m\u001b[0;34m]\u001b[0m \u001b[0;31m# update iteration\u001b[0m\u001b[0;34m\u001b[0m\u001b[0;34m\u001b[0m\u001b[0m\n",
      "\u001b[0;31mNameError\u001b[0m: name '_one' is not defined"
     ]
    }
   ],
   "source": [
    "s = PlusOne()"
   ]
  },
  {
   "cell_type": "code",
   "execution_count": null,
   "metadata": {},
   "outputs": [],
   "source": []
  }
 ],
 "metadata": {
  "kernelspec": {
   "display_name": "Python 3",
   "language": "python",
   "name": "python3"
  },
  "language_info": {
   "codemirror_mode": {
    "name": "ipython",
    "version": 3
   },
   "file_extension": ".py",
   "mimetype": "text/x-python",
   "name": "python",
   "nbconvert_exporter": "python",
   "pygments_lexer": "ipython3",
   "version": "3.6.10"
  }
 },
 "nbformat": 4,
 "nbformat_minor": 4
}
