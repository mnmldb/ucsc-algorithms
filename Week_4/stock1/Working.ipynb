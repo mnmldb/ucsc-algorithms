{
 "cells": [
  {
   "cell_type": "code",
   "execution_count": 1,
   "metadata": {},
   "outputs": [],
   "source": [
    "stock = [5, 10, 4, 6, 12]"
   ]
  },
  {
   "cell_type": "code",
   "execution_count": 4,
   "metadata": {},
   "outputs": [],
   "source": [
    "  def nsquare_time_constant_space(a) -> '[sellday,buyday,work]':\n",
    "    n = len(a) \n",
    "    gp = 0\n",
    "    bday = 0\n",
    "    sday = 0\n",
    "    work = 0\n",
    "    for i in range(0,n - 1):\n",
    "      for j in range(i + 1,n):\n",
    "        work = work + 1\n",
    "        p = a[j] - a[i]\n",
    "        if (p > gp):\n",
    "          gp = p \n",
    "          bday = i \n",
    "          sday = j\n",
    "    return [sday,bday,work]"
   ]
  },
  {
   "cell_type": "code",
   "execution_count": 6,
   "metadata": {},
   "outputs": [
    {
     "data": {
      "text/plain": [
       "[4, 2, 10]"
      ]
     },
     "execution_count": 6,
     "metadata": {},
     "output_type": "execute_result"
    }
   ],
   "source": [
    "nsquare_time_constant_space(stock)"
   ]
  },
  {
   "cell_type": "code",
   "execution_count": 7,
   "metadata": {},
   "outputs": [],
   "source": [
    "def divide(a):\n",
    "    n = len(a)\n",
    "    mid = int(round(n/2))\n",
    "    left = a[:mid]\n",
    "    right = a[mid:]\n",
    "    return left, right"
   ]
  },
  {
   "cell_type": "code",
   "execution_count": 8,
   "metadata": {},
   "outputs": [
    {
     "data": {
      "text/plain": [
       "([5, 10], [4, 6, 12])"
      ]
     },
     "execution_count": 8,
     "metadata": {},
     "output_type": "execute_result"
    }
   ],
   "source": [
    "divide(stock)"
   ]
  },
  {
   "cell_type": "code",
   "execution_count": 11,
   "metadata": {},
   "outputs": [],
   "source": [
    "def test(a):\n",
    "    n = len(a)\n",
    "    if n == 1:\n",
    "        return 0\n",
    "    else:\n",
    "        mid = int(round(n/2)) # magic line\n",
    "        left = a[:mid]\n",
    "        right = a[mid:]\n",
    "        left_profit = test(left)\n",
    "        right_profit = test(right)\n",
    "        cross_profit = max(right) - min(left)\n",
    "        print(left, right)\n",
    "        return max(left_profit, right_profit, cross_profit)"
   ]
  },
  {
   "cell_type": "code",
   "execution_count": 12,
   "metadata": {},
   "outputs": [
    {
     "name": "stdout",
     "output_type": "stream",
     "text": [
      "[5] [10]\n",
      "[4] [6]\n",
      "[4, 6] [12]\n",
      "[5, 10] [4, 6, 12]\n"
     ]
    },
    {
     "data": {
      "text/plain": [
       "8"
      ]
     },
     "execution_count": 12,
     "metadata": {},
     "output_type": "execute_result"
    }
   ],
   "source": [
    "test(stock)"
   ]
  },
  {
   "cell_type": "code",
   "execution_count": 19,
   "metadata": {},
   "outputs": [],
   "source": [
    " def _compute_profit(a,s:'int',b:'int') -> 'int':\n",
    "    n = len(a)\n",
    "    if (n == 0):\n",
    "      return 0\n",
    "    assert(s >= 0 and s < n)\n",
    "    assert(b >= 0 and b < n)\n",
    "    assert(s >= b)\n",
    "    p = a[s] - a[b]\n",
    "    return p"
   ]
  },
  {
   "cell_type": "code",
   "execution_count": 33,
   "metadata": {},
   "outputs": [],
   "source": [
    "def func(a):\n",
    "    n = len(a)\n",
    "    if n == 1:\n",
    "        sday = 0\n",
    "        bday = 0\n",
    "        work = 1\n",
    "        return [sday, bday]\n",
    "    else:\n",
    "        mid = int(round(n/2)) # magic line\n",
    "        l_stock = a[:mid]\n",
    "        r_stock = a[mid:]\n",
    "        \n",
    "        l_metrics = func(l_stock)\n",
    "        r_metrics = func(r_stock)\n",
    "        \n",
    "        l_sday = l_metrics[0]\n",
    "        r_sday = r_metrics[0]\n",
    "        \n",
    "        l_bday = l_metrics[1]\n",
    "        r_bday = l_metrics[1]\n",
    "        \n",
    "        l_profit = _compute_profit(l_stock, l_sday, l_bday)\n",
    "        r_profit = _compute_profit(r_stock, r_sday, r_bday)\n",
    "        c_profit = max(r_stock) - min(l_stock)\n",
    "        \n",
    "        if l_profit >= r_profit and l_profit >= c_profit:\n",
    "            sday = l_sday\n",
    "            bday = l_bday\n",
    "        elif r_profit >= l_profit and r_profit >= c_profit:\n",
    "            slide = len(l_stock)\n",
    "            sday = r_sday + slide\n",
    "            bday = r_bday + slide\n",
    "        else: # c_profit > l_profit and c_profit > r_profit\n",
    "            c_stock = l_stock + r_stock\n",
    "            sday = c_stock.index(max(c_stock))\n",
    "            bday = c_stock.index(min(c_stock))\n",
    "            \n",
    "        return [sday, bday]"
   ]
  },
  {
   "cell_type": "code",
   "execution_count": 20,
   "metadata": {},
   "outputs": [
    {
     "data": {
      "text/plain": [
       "8"
      ]
     },
     "execution_count": 20,
     "metadata": {},
     "output_type": "execute_result"
    }
   ],
   "source": [
    "_compute_profit(stock, 4, 2)"
   ]
  },
  {
   "cell_type": "code",
   "execution_count": 21,
   "metadata": {},
   "outputs": [
    {
     "data": {
      "text/plain": [
       "[5, 10, 4, 6, 12]"
      ]
     },
     "execution_count": 21,
     "metadata": {},
     "output_type": "execute_result"
    }
   ],
   "source": [
    "stock"
   ]
  },
  {
   "cell_type": "code",
   "execution_count": 23,
   "metadata": {},
   "outputs": [
    {
     "name": "stdout",
     "output_type": "stream",
     "text": [
      "4\n"
     ]
    }
   ],
   "source": [
    "print(stock.index(max(stock)))"
   ]
  },
  {
   "cell_type": "code",
   "execution_count": 24,
   "metadata": {},
   "outputs": [
    {
     "name": "stdout",
     "output_type": "stream",
     "text": [
      "2\n"
     ]
    }
   ],
   "source": [
    "print(stock.index(min(stock)))"
   ]
  },
  {
   "cell_type": "code",
   "execution_count": 34,
   "metadata": {},
   "outputs": [
    {
     "data": {
      "text/plain": [
       "[4, 2]"
      ]
     },
     "execution_count": 34,
     "metadata": {},
     "output_type": "execute_result"
    }
   ],
   "source": [
    "func(stock)"
   ]
  },
  {
   "cell_type": "code",
   "execution_count": 35,
   "metadata": {},
   "outputs": [],
   "source": [
    "stock1 = [5, 10, 4, 6, 12]\n",
    "stock2 = [1, 2, 3, 4, 5, 6]\n",
    "stock3 = [6, 5, 4, 3, 2, 1]"
   ]
  },
  {
   "cell_type": "code",
   "execution_count": 36,
   "metadata": {},
   "outputs": [
    {
     "name": "stdout",
     "output_type": "stream",
     "text": [
      "[4, 2]\n",
      "[5, 0]\n",
      "[0, 0]\n"
     ]
    }
   ],
   "source": [
    "print(func(stock1))\n",
    "print(func(stock2))\n",
    "print(func(stock3))"
   ]
  },
  {
   "cell_type": "code",
   "execution_count": 61,
   "metadata": {},
   "outputs": [],
   "source": [
    "def func2(a):\n",
    "    n = len(a)\n",
    "    if n == 1:\n",
    "        sday = 0\n",
    "        bday = 0\n",
    "        work = 1\n",
    "        return [sday, bday, work]\n",
    "    else:\n",
    "        mid = int(round(n/2)) # magic line\n",
    "        l_stock = a[:mid]\n",
    "        r_stock = a[mid:]\n",
    "        \n",
    "        l_metrics = func2(l_stock)\n",
    "        r_metrics = func2(r_stock)\n",
    "        \n",
    "        l_sday = l_metrics[0]\n",
    "        r_sday = r_metrics[0]\n",
    "        \n",
    "        l_bday = l_metrics[1]\n",
    "        r_bday = l_metrics[1]\n",
    "        \n",
    "        l_work = l_metrics[2]\n",
    "        r_work = r_metrics[2]\n",
    "        \n",
    "        l_profit = _compute_profit(l_stock, l_sday, l_bday)\n",
    "        r_profit = _compute_profit(r_stock, r_sday, r_bday)\n",
    "        c_profit = max(r_stock) - min(l_stock)\n",
    "        \n",
    "        c_stock = l_stock + r_stock\n",
    "        \n",
    "        if l_profit >= r_profit and l_profit >= c_profit:\n",
    "            sday = l_sday\n",
    "            bday = l_bday\n",
    "        elif r_profit >= l_profit and r_profit >= c_profit:\n",
    "            slide = len(l_stock)\n",
    "            sday = r_sday + slide\n",
    "            bday = r_bday + slide\n",
    "        else: # c_profit > l_profit and c_profit > r_profit\n",
    "            sday = c_stock.index(max(c_stock))\n",
    "            bday = c_stock.index(min(c_stock))\n",
    "        \n",
    "        c_work = len(c_stock) * 2 # find max and min\n",
    "        work = l_work + r_work + c_work\n",
    "            \n",
    "        return [sday, bday, work]"
   ]
  },
  {
   "cell_type": "code",
   "execution_count": 62,
   "metadata": {},
   "outputs": [
    {
     "data": {
      "text/plain": [
       "[4, 2, 29]"
      ]
     },
     "execution_count": 62,
     "metadata": {},
     "output_type": "execute_result"
    }
   ],
   "source": [
    "func2(stock1)"
   ]
  },
  {
   "cell_type": "code",
   "execution_count": 63,
   "metadata": {},
   "outputs": [],
   "source": [
    "stock4 = [7, 1, 5, 3, 6, 4]"
   ]
  },
  {
   "cell_type": "code",
   "execution_count": 65,
   "metadata": {},
   "outputs": [
    {
     "ename": "AssertionError",
     "evalue": "",
     "output_type": "error",
     "traceback": [
      "\u001b[0;31m---------------------------------------------------------------------------\u001b[0m",
      "\u001b[0;31mAssertionError\u001b[0m                            Traceback (most recent call last)",
      "\u001b[0;32m<ipython-input-65-7cc54d04a556>\u001b[0m in \u001b[0;36m<module>\u001b[0;34m\u001b[0m\n\u001b[0;32m----> 1\u001b[0;31m \u001b[0mfunc2\u001b[0m\u001b[0;34m(\u001b[0m\u001b[0mstock4\u001b[0m\u001b[0;34m)\u001b[0m\u001b[0;34m\u001b[0m\u001b[0;34m\u001b[0m\u001b[0m\n\u001b[0m",
      "\u001b[0;32m<ipython-input-61-a31a1eeabf4e>\u001b[0m in \u001b[0;36mfunc2\u001b[0;34m(a)\u001b[0m\n\u001b[1;32m     23\u001b[0m         \u001b[0mr_work\u001b[0m \u001b[0;34m=\u001b[0m \u001b[0mr_metrics\u001b[0m\u001b[0;34m[\u001b[0m\u001b[0;36m2\u001b[0m\u001b[0;34m]\u001b[0m\u001b[0;34m\u001b[0m\u001b[0;34m\u001b[0m\u001b[0m\n\u001b[1;32m     24\u001b[0m \u001b[0;34m\u001b[0m\u001b[0m\n\u001b[0;32m---> 25\u001b[0;31m         \u001b[0ml_profit\u001b[0m \u001b[0;34m=\u001b[0m \u001b[0m_compute_profit\u001b[0m\u001b[0;34m(\u001b[0m\u001b[0ml_stock\u001b[0m\u001b[0;34m,\u001b[0m \u001b[0ml_sday\u001b[0m\u001b[0;34m,\u001b[0m \u001b[0ml_bday\u001b[0m\u001b[0;34m)\u001b[0m\u001b[0;34m\u001b[0m\u001b[0;34m\u001b[0m\u001b[0m\n\u001b[0m\u001b[1;32m     26\u001b[0m         \u001b[0mr_profit\u001b[0m \u001b[0;34m=\u001b[0m \u001b[0m_compute_profit\u001b[0m\u001b[0;34m(\u001b[0m\u001b[0mr_stock\u001b[0m\u001b[0;34m,\u001b[0m \u001b[0mr_sday\u001b[0m\u001b[0;34m,\u001b[0m \u001b[0mr_bday\u001b[0m\u001b[0;34m)\u001b[0m\u001b[0;34m\u001b[0m\u001b[0;34m\u001b[0m\u001b[0m\n\u001b[1;32m     27\u001b[0m         \u001b[0mc_profit\u001b[0m \u001b[0;34m=\u001b[0m \u001b[0mmax\u001b[0m\u001b[0;34m(\u001b[0m\u001b[0mr_stock\u001b[0m\u001b[0;34m)\u001b[0m \u001b[0;34m-\u001b[0m \u001b[0mmin\u001b[0m\u001b[0;34m(\u001b[0m\u001b[0ml_stock\u001b[0m\u001b[0;34m)\u001b[0m\u001b[0;34m\u001b[0m\u001b[0;34m\u001b[0m\u001b[0m\n",
      "\u001b[0;32m<ipython-input-19-504a40cc4095>\u001b[0m in \u001b[0;36m_compute_profit\u001b[0;34m(a, s, b)\u001b[0m\n\u001b[1;32m      5\u001b[0m    \u001b[0;32massert\u001b[0m\u001b[0;34m(\u001b[0m\u001b[0ms\u001b[0m \u001b[0;34m>=\u001b[0m \u001b[0;36m0\u001b[0m \u001b[0;32mand\u001b[0m \u001b[0ms\u001b[0m \u001b[0;34m<\u001b[0m \u001b[0mn\u001b[0m\u001b[0;34m)\u001b[0m\u001b[0;34m\u001b[0m\u001b[0;34m\u001b[0m\u001b[0m\n\u001b[1;32m      6\u001b[0m    \u001b[0;32massert\u001b[0m\u001b[0;34m(\u001b[0m\u001b[0mb\u001b[0m \u001b[0;34m>=\u001b[0m \u001b[0;36m0\u001b[0m \u001b[0;32mand\u001b[0m \u001b[0mb\u001b[0m \u001b[0;34m<\u001b[0m \u001b[0mn\u001b[0m\u001b[0;34m)\u001b[0m\u001b[0;34m\u001b[0m\u001b[0;34m\u001b[0m\u001b[0m\n\u001b[0;32m----> 7\u001b[0;31m    \u001b[0;32massert\u001b[0m\u001b[0;34m(\u001b[0m\u001b[0ms\u001b[0m \u001b[0;34m>=\u001b[0m \u001b[0mb\u001b[0m\u001b[0;34m)\u001b[0m\u001b[0;34m\u001b[0m\u001b[0;34m\u001b[0m\u001b[0m\n\u001b[0m\u001b[1;32m      8\u001b[0m    \u001b[0mp\u001b[0m \u001b[0;34m=\u001b[0m \u001b[0ma\u001b[0m\u001b[0;34m[\u001b[0m\u001b[0ms\u001b[0m\u001b[0;34m]\u001b[0m \u001b[0;34m-\u001b[0m \u001b[0ma\u001b[0m\u001b[0;34m[\u001b[0m\u001b[0mb\u001b[0m\u001b[0;34m]\u001b[0m\u001b[0;34m\u001b[0m\u001b[0;34m\u001b[0m\u001b[0m\n\u001b[1;32m      9\u001b[0m    \u001b[0;32mreturn\u001b[0m \u001b[0mp\u001b[0m\u001b[0;34m\u001b[0m\u001b[0;34m\u001b[0m\u001b[0m\n",
      "\u001b[0;31mAssertionError\u001b[0m: "
     ]
    }
   ],
   "source": [
    "func2(stock4)"
   ]
  },
  {
   "cell_type": "code",
   "execution_count": 75,
   "metadata": {},
   "outputs": [],
   "source": [
    "def func3(a):\n",
    "    n = len(a)\n",
    "    if n == 1:\n",
    "        sday = 0\n",
    "        bday = 0\n",
    "        work = 1\n",
    "        return [sday, bday, work]\n",
    "    else:\n",
    "        mid = int(round(n/2)) # magic line\n",
    "        l_stock = a[:mid]\n",
    "        r_stock = a[mid:]\n",
    "        \n",
    "        l_metrics = func3(l_stock)\n",
    "        r_metrics = func3(r_stock)\n",
    "        \n",
    "        l_sday = l_metrics[0]\n",
    "        r_sday = r_metrics[0]\n",
    "        \n",
    "        l_bday = l_metrics[1]\n",
    "        r_bday = l_metrics[1]\n",
    "        \n",
    "        l_work = l_metrics[2]\n",
    "        r_work = r_metrics[2]\n",
    "        \n",
    "        l_profit = _compute_profit(l_stock, l_sday, l_bday)\n",
    "        r_profit = _compute_profit(r_stock, r_sday, r_bday)\n",
    "        c_profit = max(r_stock) - min(l_stock)\n",
    "        \n",
    "        c_stock = l_stock + r_stock\n",
    "        \n",
    "        slide = len(l_stock) # additional index\n",
    "        \n",
    "        if l_profit >= r_profit and l_profit >= c_profit:\n",
    "            sday = l_sday\n",
    "            bday = l_bday\n",
    "        elif r_profit >= l_profit and r_profit >= c_profit:\n",
    "            sday = r_sday + slide\n",
    "            bday = r_bday + slide\n",
    "        else: # c_profit > l_profit and c_profit > r_profit\n",
    "            sday = r_stock.index(max(r_stock)) + slide\n",
    "            bday = l_stock.index(min(l_stock))\n",
    "        \n",
    "        c_work = len(c_stock) * 2 # find max and min\n",
    "        work = l_work + r_work + c_work\n",
    "            \n",
    "        return [sday, bday, work]"
   ]
  },
  {
   "cell_type": "code",
   "execution_count": 76,
   "metadata": {},
   "outputs": [
    {
     "data": {
      "text/plain": [
       "[4, 1, 38]"
      ]
     },
     "execution_count": 76,
     "metadata": {},
     "output_type": "execute_result"
    }
   ],
   "source": [
    "func3(stock4)"
   ]
  },
  {
   "cell_type": "code",
   "execution_count": 77,
   "metadata": {},
   "outputs": [
    {
     "data": {
      "text/plain": [
       "0"
      ]
     },
     "execution_count": 77,
     "metadata": {},
     "output_type": "execute_result"
    }
   ],
   "source": [
    "test = [5]\n",
    "test.index(max(test))"
   ]
  },
  {
   "cell_type": "code",
   "execution_count": 78,
   "metadata": {},
   "outputs": [
    {
     "data": {
      "text/plain": [
       "0"
      ]
     },
     "execution_count": 78,
     "metadata": {},
     "output_type": "execute_result"
    }
   ],
   "source": [
    "test = [5]\n",
    "test.index(min(test))"
   ]
  },
  {
   "cell_type": "code",
   "execution_count": 131,
   "metadata": {},
   "outputs": [],
   "source": [
    "############################################################\n",
    "# Solution.py\n",
    "# Author: Jagadeesh Vasudevamurthy\n",
    "# Copyright: Jagadeesh Vasudevamurthy 2020\n",
    "############################################################\n",
    "# Solution.py\n",
    "# Author: Jagadeesh Vasudevamurthy\n",
    "# Copyright: Jagadeesh Vasudevamurthy 2020\n",
    "###########################################################\n",
    "############################################################\n",
    "# All imports\n",
    "###########################################################\n",
    "from typing import List\n",
    "\n",
    "\n",
    "class Solution:\n",
    "  def __init__(self):\n",
    "    ## YoU can have what ever you want\n",
    "    self._min = 1\n",
    "    self._max = 2\n",
    "\n",
    "  ##Required function to implement\n",
    "  ##LEETCODE INTERFACE.  DO NOT CHANGE\n",
    "  ## YOU CANNOT CHANGE ANYTHING\n",
    "  def maxProfit(self, prices: List[int]) -> int:\n",
    "    if (False):\n",
    "      [sellday,buyday,work] = self.nsquare_time_constant_space(prices)\n",
    "    if (False):\n",
    "      [sellday,buyday,work] = self.nlogn_time_logn_space(prices)\n",
    "    if (True):\n",
    "      [sellday,buyday,work] = self.ntime_constant_space(prices)\n",
    "    p = self._compute_profit(prices,sellday,buyday)\n",
    "    return p\n",
    "\n",
    "  ########################################\n",
    "  # TIME:THETA(1)\n",
    "  # Space:THETA(1)\n",
    "  # I have implemented the code.  NOTHING CAN BE CHANGED HERE\n",
    "  #########################################\n",
    "  def _compute_profit(self,a:List[int],s:'int',b:'int') -> 'int':\n",
    "    n = len(a)\n",
    "    if (n == 0):\n",
    "      return 0\n",
    "    assert(s >= 0 and s < n)\n",
    "    assert(b >= 0 and b < n)\n",
    "    assert(s >= b)\n",
    "    p = a[s] - a[b]\n",
    "    return p\n",
    "\n",
    "  ########################################\n",
    "  # TIME:THETA(N^2)\n",
    "  # Space:THETA(1)\n",
    "  # I have implemented the code.  NOTHING CAN BE CHANGED HERE\n",
    "  #########################################\n",
    "  def nsquare_time_constant_space(self, a:List[int]) -> '[sellday,buyday,work]':\n",
    "    n = len(a) \n",
    "    gp = 0\n",
    "    bday = 0\n",
    "    sday = 0\n",
    "    work = 0\n",
    "    for i in range(0,n - 1):\n",
    "      for j in range(i + 1,n):\n",
    "        work = work + 1\n",
    "        p = a[j] - a[i]\n",
    "        if (p > gp):\n",
    "          gp = p \n",
    "          bday = i \n",
    "          sday = j\n",
    "    return [sday,bday,work]\n",
    " \n",
    "  ########################################\n",
    "  # Implement your code below\n",
    "  # You can have any number of private functions and varaible\n",
    "  #########################################\n",
    "\n",
    "  ########################################\n",
    "  # TIME:THETA(NlogN)\n",
    "  # Space:THETA(logn)\n",
    "  #########################################\n",
    "  def nlogn_time_logn_space(self, a:List[int]) -> '[sellday,buyday,work]':\n",
    "    ##UNTIL YOU IMPLEMENT CALL square_time_constant_space, so that all test passes\n",
    "    n = len(a)\n",
    "    if n == 0:\n",
    "      return 0\n",
    "    work = [0]\n",
    "    return self._dq(a, 0, n - 1, work)\n",
    "\n",
    "\n",
    "  def _get_min_or_max_index(self, a:List[int], s:'int', m:'int', work:'list of size 1', minormax:'int') -> 'int':\n",
    "    v = a[s]\n",
    "    vi = s\n",
    "    for i in range(s + 1, m + 1):\n",
    "      work[0] = work[0] + 1\n",
    "      if minormax == self._min:\n",
    "        if a[i] < v:\n",
    "          v = a[i]\n",
    "          vi = i\n",
    "      else:\n",
    "        if a[i] > v:\n",
    "          v = a[i]\n",
    "          vi = i\n",
    "    return vi # return index\n",
    "\n",
    "\n",
    "  def _dq(self, a:List[int], l:'int', h:'int', work:'list of size 1') -> '[sellday, buyday, work]':\n",
    "    if l == h:\n",
    "      # exactly one element\n",
    "      # Profit is zero\n",
    "      ans = [h, l, work[0]]\n",
    "      return ans\n",
    "    \n",
    "    # Divide\n",
    "    work[0] = work[0] + 1\n",
    "    m = ((h - l) // 2) + l \n",
    "    #Left side profit index\n",
    "    li = self._dq(a, l, m, work) # li = sellday, buyday, work\n",
    "    #Right side profit index\n",
    "    ri = self._dq(a, m + 1, h, work) # li = sellday, buyday, work\n",
    "\n",
    "    # Conquer\n",
    "    work[0] = work[0] + 1\n",
    "\n",
    "    # Find minimum number index on left side\n",
    "    minlefti = self._get_min_or_max_index(a, l, m, work, self._min)\n",
    "    maxrighti = self._get_min_or_max_index(a, m + 1, h, work, self._max)\n",
    "\n",
    "    crossprofit = self._compute_profit(a, maxrighti, minlefti)\n",
    "    leftprofit = self._compute_profit(a, li[0], li[1])\n",
    "    rightprofit = self._compute_profit(a, ri[0], ri[1])\n",
    "\n",
    "    # First figure out left or right is profitable\n",
    "    leftrightprofitindex = li # sellday, buyday, work\n",
    "    leftrightprofit = leftprofit\n",
    "    if rightprofit > leftprofit:\n",
    "      leftrightprofitindex = ri # sellday, buyday, work\n",
    "      leftrightprofit = rightprofit\n",
    "    \n",
    "    ## Now compare with cross profit\n",
    "    if crossprofit > leftrightprofit:\n",
    "      ans = [maxrighti, minlefti, work[0]]\n",
    "      return ans\n",
    "    else:\n",
    "      ans = [leftrightprofitindex[0], leftrightprofitindex[1], work[0]]\n",
    "      return ans\n",
    "\n",
    "  ########################################\n",
    "  # TIME:THETA(N)\n",
    "  # Space:THETA(N)\n",
    "  #########################################\n",
    "  def ntime_constant_space(self, a:List[int]) -> '[sellday,buyday,work]':\n",
    "    ##UNTIL YOU IMPLEMENT CALL square_time_constant_space, so that all test passes\n",
    "    n = len(a)\n",
    "    if n == 0:\n",
    "      return [0, 0, 0]\n",
    "    work = 1\n",
    "    gp = 0\n",
    "    sellday = 0\n",
    "    buyday = 0\n",
    "    lowest_stock_day = 0\n",
    "    lowest_stock_day_price = a[0]\n",
    "    for i in range(1, n):\n",
    "      work = work + 1\n",
    "      price_today = a[i]\n",
    "      if price_today < lowest_stock_day_price:\n",
    "        lowest_stock_day = i \n",
    "        lowest_stock_day_price = price_today\n",
    "      else:\n",
    "        p = self._compute_profit(a, i, lowest_stock_day)\n",
    "        if p > gp:\n",
    "          gp = p\n",
    "          buyday = lowest_stock_day\n",
    "          sellday = i\n",
    "    ans = [sellday, buyday, work]\n",
    "    return ans\n"
   ]
  },
  {
   "cell_type": "code",
   "execution_count": 132,
   "metadata": {},
   "outputs": [],
   "source": [
    "s = Solution()"
   ]
  },
  {
   "cell_type": "code",
   "execution_count": 133,
   "metadata": {},
   "outputs": [],
   "source": [
    "a = [5, 10, 4, 6, 12]\n",
    "b = [7,1,5,3,6,4]"
   ]
  },
  {
   "cell_type": "code",
   "execution_count": 134,
   "metadata": {},
   "outputs": [
    {
     "name": "stdout",
     "output_type": "stream",
     "text": [
      "[4, 2, 10]\n",
      "[4, 1, 15]\n"
     ]
    }
   ],
   "source": [
    "print(s.nsquare_time_constant_space(a))\n",
    "print(s.nsquare_time_constant_space(b))"
   ]
  },
  {
   "cell_type": "code",
   "execution_count": 135,
   "metadata": {},
   "outputs": [
    {
     "name": "stdout",
     "output_type": "stream",
     "text": [
      "[4, 2, 12]\n",
      "[4, 1, 16]\n"
     ]
    }
   ],
   "source": [
    "print(s.nlogn_time_logn_space(a))\n",
    "print(s.nlogn_time_logn_space(b))"
   ]
  },
  {
   "cell_type": "code",
   "execution_count": 136,
   "metadata": {},
   "outputs": [
    {
     "name": "stdout",
     "output_type": "stream",
     "text": [
      "[4, 2, 5]\n",
      "[4, 1, 6]\n"
     ]
    }
   ],
   "source": [
    "print(s.ntime_constant_space(a))\n",
    "print(s.ntime_constant_space(b))"
   ]
  },
  {
   "cell_type": "code",
   "execution_count": 127,
   "metadata": {},
   "outputs": [
    {
     "data": {
      "text/plain": [
       "[5, 10, 4, 6, 12]"
      ]
     },
     "execution_count": 127,
     "metadata": {},
     "output_type": "execute_result"
    }
   ],
   "source": [
    "a"
   ]
  },
  {
   "cell_type": "code",
   "execution_count": 128,
   "metadata": {},
   "outputs": [
    {
     "data": {
      "text/plain": [
       "[7, 1, 5, 3, 6, 4]"
      ]
     },
     "execution_count": 128,
     "metadata": {},
     "output_type": "execute_result"
    }
   ],
   "source": [
    "b"
   ]
  },
  {
   "cell_type": "code",
   "execution_count": null,
   "metadata": {},
   "outputs": [],
   "source": []
  }
 ],
 "metadata": {
  "kernelspec": {
   "display_name": "Python 3",
   "language": "python",
   "name": "python3"
  },
  "language_info": {
   "codemirror_mode": {
    "name": "ipython",
    "version": 3
   },
   "file_extension": ".py",
   "mimetype": "text/x-python",
   "name": "python",
   "nbconvert_exporter": "python",
   "pygments_lexer": "ipython3",
   "version": "3.6.10"
  }
 },
 "nbformat": 4,
 "nbformat_minor": 4
}
